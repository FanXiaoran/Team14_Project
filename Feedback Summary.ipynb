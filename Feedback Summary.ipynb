{
 "cells": [
  {
   "cell_type": "markdown",
   "id": "fd09d734-9297-4210-a817-9b223383bae4",
   "metadata": {},
   "source": [
    "# Feedback"
   ]
  },
  {
   "cell_type": "markdown",
   "id": "6ac53c74-bbe4-4b6b-8f28-3e99e4ae7c9a",
   "metadata": {},
   "source": [
    "- Need a subtitle/figure description for figures\n",
    "- check spelling and grammar\n",
    "- Justify why we chose to look at means and standard deviation\n",
    "- Reword question to infer about all cars from 1970-1982\n",
    "- Conclusion should be generalized and refer entire population\n",
    "- \"We're already going to expect that 6 cylinder cars produce more power. Perhaps since 6 cylinder cars have 50% more cylinders that 4 cylinder cars... see if the horse power is 50% more? just an idea!\" - TA Mark\n",
    "- Talk about the variance in boxplot\n",
    "- Talk about differences in sample size\n",
    "- Try to find paper from 1970-1982 or refer to the gaps in literature that we will be answering"
   ]
  },
  {
   "cell_type": "markdown",
   "id": "d4c39d61-db74-44e4-802f-f695c2e6589d",
   "metadata": {},
   "source": []
  }
 ],
 "metadata": {
  "kernelspec": {
   "display_name": "R",
   "language": "R",
   "name": "ir"
  },
  "language_info": {
   "codemirror_mode": "r",
   "file_extension": ".r",
   "mimetype": "text/x-r-source",
   "name": "R",
   "pygments_lexer": "r",
   "version": "4.0.5"
  }
 },
 "nbformat": 4,
 "nbformat_minor": 5
}
