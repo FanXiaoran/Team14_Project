{
 "cells": [
  {
   "cell_type": "markdown",
   "id": "fd09d734-9297-4210-a817-9b223383bae4",
   "metadata": {},
   "source": [
    "## Project Proposal"
   ]
  },
  {
   "cell_type": "markdown",
   "id": "6ac53c74-bbe4-4b6b-8f28-3e99e4ae7c9a",
   "metadata": {},
   "source": [
    "Title\n",
    "\n",
    "Introduction\n",
    "\n",
    "Preliminary Results\n",
    "\n",
    "Methods: Plan\n",
    "\n",
    "References"
   ]
  },
  {
   "cell_type": "code",
   "execution_count": null,
   "id": "840e72a8-a748-43ed-98ee-7df51ff9e141",
   "metadata": {},
   "outputs": [],
   "source": []
  }
 ],
 "metadata": {
  "kernelspec": {
   "display_name": "R",
   "language": "R",
   "name": "ir"
  },
  "language_info": {
   "codemirror_mode": "r",
   "file_extension": ".r",
   "mimetype": "text/x-r-source",
   "name": "R",
   "pygments_lexer": "r",
   "version": "4.0.5"
  }
 },
 "nbformat": 4,
 "nbformat_minor": 5
}
