{
 "cells": [
  {
   "cell_type": "markdown",
   "id": "fd09d734-9297-4210-a817-9b223383bae4",
   "metadata": {},
   "source": [
    "# Project Proposal"
   ]
  },
  {
   "cell_type": "markdown",
   "id": "6ac53c74-bbe4-4b6b-8f28-3e99e4ae7c9a",
   "metadata": {
    "jp-MarkdownHeadingCollapsed": true,
    "tags": []
   },
   "source": [
    "## Title\n"
   ]
  },
  {
   "cell_type": "markdown",
   "id": "6f5ea1ed-8ad1-4cc3-a20b-3b847ddf4361",
   "metadata": {},
   "source": [
    "## Introduction\n"
   ]
  },
  {
   "cell_type": "markdown",
   "id": "522da2ed-bdfa-477c-af04-9a22ba80edca",
   "metadata": {},
   "source": [
    "(If we ues the hoursepower and the cylinders)"
   ]
  },
  {
   "cell_type": "markdown",
   "id": "8af6da18-712d-42cd-99bb-9a58f39ecc45",
   "metadata": {},
   "source": [
    "Cars with different number of cylinders have different horsepower. We are interested in the different impact on hoursepower between the cars with 4 cylinders and 6 cylinders. Our question is :\" Does the different number of cylinders have a different effect on horsepower?\" We will answer this question by analysing the mean (the location parameter) and the standard deviation (the scale parameter) of the hoursepower and how it differs with the different number of cylinders."
   ]
  },
  {
   "cell_type": "markdown",
   "id": "91f149bb-eaed-423b-887d-97e66963df93",
   "metadata": {},
   "source": [
    "Previous research metioned that the efficiencies and the horsepowers of the motor are related to the volume of the cylinder (Millner, 2002). However, there are few and limited studies on cylinder numbers and horsepower."
   ]
  },
  {
   "cell_type": "markdown",
   "id": "a737a174-c1d9-471e-b9d3-32df5a97c004",
   "metadata": {},
   "source": [
    "Our data set is the Auto MPG data set, which was obtained from Carnegie Mellon University's StatLib library. The 1983 American Statistical Association Exposition also made use of this dataset. "
   ]
  },
  {
   "cell_type": "markdown",
   "id": "28240c54-6852-46a8-82a2-fa4c1659e7fa",
   "metadata": {},
   "source": [
    "Attribute informations:"
   ]
  },
  {
   "cell_type": "markdown",
   "id": "488e5d05-919e-4527-9ed6-d1b38f0e610c",
   "metadata": {},
   "source": [
    "|Variables|Attribute|\n",
    "|:---:|:---:|\n",
    "|mpg|continuous|\n",
    "|cylinders|multi-valued discrete|\n",
    "|displacement|continuous|\n",
    "|horsepower|continuous|\n",
    "|weight|continuous|\n",
    "|acceleration|continuous|\n",
    "|model year|multi-valued discrete|\n",
    "|origin|multi-valued discrete|\n",
    "|car name|string (unique for each instance)|\n",
    "\n"
   ]
  },
  {
   "cell_type": "markdown",
   "id": "e116b3bc-c050-4874-8e03-bffe176a475f",
   "metadata": {},
   "source": [
    "## Preliminary Results\n"
   ]
  },
  {
   "cell_type": "markdown",
   "id": "f057535d-7e87-4deb-a93e-fc8bf9f9f529",
   "metadata": {},
   "source": [
    "## Load Packages"
   ]
  },
  {
   "cell_type": "code",
   "execution_count": 1,
   "id": "82b07824-8876-4364-b896-8e331fdb813b",
   "metadata": {},
   "outputs": [
    {
     "name": "stderr",
     "output_type": "stream",
     "text": [
      "── \u001b[1mAttaching packages\u001b[22m ─────────────────────────────────────── tidyverse 1.3.0 ──\n",
      "\n",
      "\u001b[32m✔\u001b[39m \u001b[34mggplot2\u001b[39m 3.3.6     \u001b[32m✔\u001b[39m \u001b[34mpurrr  \u001b[39m 0.3.4\n",
      "\u001b[32m✔\u001b[39m \u001b[34mtibble \u001b[39m 3.1.7     \u001b[32m✔\u001b[39m \u001b[34mdplyr  \u001b[39m 1.0.9\n",
      "\u001b[32m✔\u001b[39m \u001b[34mtidyr  \u001b[39m 1.2.0     \u001b[32m✔\u001b[39m \u001b[34mstringr\u001b[39m 1.4.0\n",
      "\u001b[32m✔\u001b[39m \u001b[34mreadr  \u001b[39m 2.1.2     \u001b[32m✔\u001b[39m \u001b[34mforcats\u001b[39m 0.5.1\n",
      "\n",
      "── \u001b[1mConflicts\u001b[22m ────────────────────────────────────────── tidyverse_conflicts() ──\n",
      "\u001b[31m✖\u001b[39m \u001b[34mdplyr\u001b[39m::\u001b[32mfilter()\u001b[39m masks \u001b[34mstats\u001b[39m::filter()\n",
      "\u001b[31m✖\u001b[39m \u001b[34mdplyr\u001b[39m::\u001b[32mlag()\u001b[39m    masks \u001b[34mstats\u001b[39m::lag()\n",
      "\n"
     ]
    }
   ],
   "source": [
    "library(tidyverse)\n",
    "library(infer)\n",
    "library(repr)\n",
    "library(cowplot)\n",
    "library(datateachr)\n",
    "library(digest)\n",
    "library(dplyr)"
   ]
  },
  {
   "cell_type": "markdown",
   "id": "a273a766-9c85-424a-9b7e-97ac56b8bba4",
   "metadata": {},
   "source": [
    "## Load Data"
   ]
  },
  {
   "cell_type": "code",
   "execution_count": 2,
   "id": "014521f2-906a-4033-94e1-d6dd4f502b31",
   "metadata": {},
   "outputs": [],
   "source": [
    "download.file(\"https://archive.ics.uci.edu/ml/machine-learning-databases/auto-mpg/auto-mpg.data\", \n",
    "              \"auto-mpg.data\")"
   ]
  },
  {
   "cell_type": "code",
   "execution_count": 3,
   "id": "8da5f6f5-3668-40fd-86e3-2af7077d49d3",
   "metadata": {},
   "outputs": [
    {
     "data": {
      "text/html": [
       "<table class=\"dataframe\">\n",
       "<caption>A data.frame: 6 × 9</caption>\n",
       "<thead>\n",
       "\t<tr><th></th><th scope=col>V1</th><th scope=col>V2</th><th scope=col>V3</th><th scope=col>V4</th><th scope=col>V5</th><th scope=col>V6</th><th scope=col>V7</th><th scope=col>V8</th><th scope=col>V9</th></tr>\n",
       "\t<tr><th></th><th scope=col>&lt;dbl&gt;</th><th scope=col>&lt;int&gt;</th><th scope=col>&lt;dbl&gt;</th><th scope=col>&lt;chr&gt;</th><th scope=col>&lt;dbl&gt;</th><th scope=col>&lt;dbl&gt;</th><th scope=col>&lt;int&gt;</th><th scope=col>&lt;int&gt;</th><th scope=col>&lt;chr&gt;</th></tr>\n",
       "</thead>\n",
       "<tbody>\n",
       "\t<tr><th scope=row>1</th><td>18</td><td>8</td><td>307</td><td>130.0</td><td>3504</td><td>12.0</td><td>70</td><td>1</td><td>chevrolet chevelle malibu</td></tr>\n",
       "\t<tr><th scope=row>2</th><td>15</td><td>8</td><td>350</td><td>165.0</td><td>3693</td><td>11.5</td><td>70</td><td>1</td><td>buick skylark 320        </td></tr>\n",
       "\t<tr><th scope=row>3</th><td>18</td><td>8</td><td>318</td><td>150.0</td><td>3436</td><td>11.0</td><td>70</td><td>1</td><td>plymouth satellite       </td></tr>\n",
       "\t<tr><th scope=row>4</th><td>16</td><td>8</td><td>304</td><td>150.0</td><td>3433</td><td>12.0</td><td>70</td><td>1</td><td>amc rebel sst            </td></tr>\n",
       "\t<tr><th scope=row>5</th><td>17</td><td>8</td><td>302</td><td>140.0</td><td>3449</td><td>10.5</td><td>70</td><td>1</td><td>ford torino              </td></tr>\n",
       "\t<tr><th scope=row>6</th><td>15</td><td>8</td><td>429</td><td>198.0</td><td>4341</td><td>10.0</td><td>70</td><td>1</td><td>ford galaxie 500         </td></tr>\n",
       "</tbody>\n",
       "</table>\n"
      ],
      "text/latex": [
       "A data.frame: 6 × 9\n",
       "\\begin{tabular}{r|lllllllll}\n",
       "  & V1 & V2 & V3 & V4 & V5 & V6 & V7 & V8 & V9\\\\\n",
       "  & <dbl> & <int> & <dbl> & <chr> & <dbl> & <dbl> & <int> & <int> & <chr>\\\\\n",
       "\\hline\n",
       "\t1 & 18 & 8 & 307 & 130.0 & 3504 & 12.0 & 70 & 1 & chevrolet chevelle malibu\\\\\n",
       "\t2 & 15 & 8 & 350 & 165.0 & 3693 & 11.5 & 70 & 1 & buick skylark 320        \\\\\n",
       "\t3 & 18 & 8 & 318 & 150.0 & 3436 & 11.0 & 70 & 1 & plymouth satellite       \\\\\n",
       "\t4 & 16 & 8 & 304 & 150.0 & 3433 & 12.0 & 70 & 1 & amc rebel sst            \\\\\n",
       "\t5 & 17 & 8 & 302 & 140.0 & 3449 & 10.5 & 70 & 1 & ford torino              \\\\\n",
       "\t6 & 15 & 8 & 429 & 198.0 & 4341 & 10.0 & 70 & 1 & ford galaxie 500         \\\\\n",
       "\\end{tabular}\n"
      ],
      "text/markdown": [
       "\n",
       "A data.frame: 6 × 9\n",
       "\n",
       "| <!--/--> | V1 &lt;dbl&gt; | V2 &lt;int&gt; | V3 &lt;dbl&gt; | V4 &lt;chr&gt; | V5 &lt;dbl&gt; | V6 &lt;dbl&gt; | V7 &lt;int&gt; | V8 &lt;int&gt; | V9 &lt;chr&gt; |\n",
       "|---|---|---|---|---|---|---|---|---|---|\n",
       "| 1 | 18 | 8 | 307 | 130.0 | 3504 | 12.0 | 70 | 1 | chevrolet chevelle malibu |\n",
       "| 2 | 15 | 8 | 350 | 165.0 | 3693 | 11.5 | 70 | 1 | buick skylark 320         |\n",
       "| 3 | 18 | 8 | 318 | 150.0 | 3436 | 11.0 | 70 | 1 | plymouth satellite        |\n",
       "| 4 | 16 | 8 | 304 | 150.0 | 3433 | 12.0 | 70 | 1 | amc rebel sst             |\n",
       "| 5 | 17 | 8 | 302 | 140.0 | 3449 | 10.5 | 70 | 1 | ford torino               |\n",
       "| 6 | 15 | 8 | 429 | 198.0 | 4341 | 10.0 | 70 | 1 | ford galaxie 500          |\n",
       "\n"
      ],
      "text/plain": [
       "  V1 V2 V3  V4    V5   V6   V7 V8 V9                       \n",
       "1 18 8  307 130.0 3504 12.0 70 1  chevrolet chevelle malibu\n",
       "2 15 8  350 165.0 3693 11.5 70 1  buick skylark 320        \n",
       "3 18 8  318 150.0 3436 11.0 70 1  plymouth satellite       \n",
       "4 16 8  304 150.0 3433 12.0 70 1  amc rebel sst            \n",
       "5 17 8  302 140.0 3449 10.5 70 1  ford torino              \n",
       "6 15 8  429 198.0 4341 10.0 70 1  ford galaxie 500         "
      ]
     },
     "metadata": {},
     "output_type": "display_data"
    }
   ],
   "source": [
    "cars <- read.table(\"auto-mpg.data\") \n",
    "head(cars)"
   ]
  },
  {
   "cell_type": "markdown",
   "id": "8dadc498-1afb-457e-92bd-b75848b3e882",
   "metadata": {},
   "source": [
    "## Clean And Wrangle The Data"
   ]
  },
  {
   "cell_type": "markdown",
   "id": "9cba730c-e486-46c7-8070-95b5c1382778",
   "metadata": {},
   "source": [
    "1. name the variables and clean the data."
   ]
  },
  {
   "cell_type": "code",
   "execution_count": 5,
   "id": "8dc67618-7a87-481d-acc1-f7f72b11a01c",
   "metadata": {},
   "outputs": [
    {
     "name": "stderr",
     "output_type": "stream",
     "text": [
      "Warning message in mask$eval_all_mutate(quo):\n",
      "“NAs introduced by coercion”\n"
     ]
    },
    {
     "data": {
      "text/html": [
       "<table class=\"dataframe\">\n",
       "<caption>A data.frame: 6 × 9</caption>\n",
       "<thead>\n",
       "\t<tr><th></th><th scope=col>mpg</th><th scope=col>cylinders</th><th scope=col>dispacement</th><th scope=col>horsepower</th><th scope=col>weight</th><th scope=col>acceleration</th><th scope=col>model</th><th scope=col>origin</th><th scope=col>name</th></tr>\n",
       "\t<tr><th></th><th scope=col>&lt;dbl&gt;</th><th scope=col>&lt;fct&gt;</th><th scope=col>&lt;dbl&gt;</th><th scope=col>&lt;dbl&gt;</th><th scope=col>&lt;dbl&gt;</th><th scope=col>&lt;dbl&gt;</th><th scope=col>&lt;int&gt;</th><th scope=col>&lt;int&gt;</th><th scope=col>&lt;chr&gt;</th></tr>\n",
       "</thead>\n",
       "<tbody>\n",
       "\t<tr><th scope=row>1</th><td>18</td><td>8</td><td>307</td><td>130</td><td>3504</td><td>12.0</td><td>70</td><td>1</td><td>chevrolet chevelle malibu</td></tr>\n",
       "\t<tr><th scope=row>2</th><td>15</td><td>8</td><td>350</td><td>165</td><td>3693</td><td>11.5</td><td>70</td><td>1</td><td>buick skylark 320        </td></tr>\n",
       "\t<tr><th scope=row>3</th><td>18</td><td>8</td><td>318</td><td>150</td><td>3436</td><td>11.0</td><td>70</td><td>1</td><td>plymouth satellite       </td></tr>\n",
       "\t<tr><th scope=row>4</th><td>16</td><td>8</td><td>304</td><td>150</td><td>3433</td><td>12.0</td><td>70</td><td>1</td><td>amc rebel sst            </td></tr>\n",
       "\t<tr><th scope=row>5</th><td>17</td><td>8</td><td>302</td><td>140</td><td>3449</td><td>10.5</td><td>70</td><td>1</td><td>ford torino              </td></tr>\n",
       "\t<tr><th scope=row>6</th><td>15</td><td>8</td><td>429</td><td>198</td><td>4341</td><td>10.0</td><td>70</td><td>1</td><td>ford galaxie 500         </td></tr>\n",
       "</tbody>\n",
       "</table>\n"
      ],
      "text/latex": [
       "A data.frame: 6 × 9\n",
       "\\begin{tabular}{r|lllllllll}\n",
       "  & mpg & cylinders & dispacement & horsepower & weight & acceleration & model & origin & name\\\\\n",
       "  & <dbl> & <fct> & <dbl> & <dbl> & <dbl> & <dbl> & <int> & <int> & <chr>\\\\\n",
       "\\hline\n",
       "\t1 & 18 & 8 & 307 & 130 & 3504 & 12.0 & 70 & 1 & chevrolet chevelle malibu\\\\\n",
       "\t2 & 15 & 8 & 350 & 165 & 3693 & 11.5 & 70 & 1 & buick skylark 320        \\\\\n",
       "\t3 & 18 & 8 & 318 & 150 & 3436 & 11.0 & 70 & 1 & plymouth satellite       \\\\\n",
       "\t4 & 16 & 8 & 304 & 150 & 3433 & 12.0 & 70 & 1 & amc rebel sst            \\\\\n",
       "\t5 & 17 & 8 & 302 & 140 & 3449 & 10.5 & 70 & 1 & ford torino              \\\\\n",
       "\t6 & 15 & 8 & 429 & 198 & 4341 & 10.0 & 70 & 1 & ford galaxie 500         \\\\\n",
       "\\end{tabular}\n"
      ],
      "text/markdown": [
       "\n",
       "A data.frame: 6 × 9\n",
       "\n",
       "| <!--/--> | mpg &lt;dbl&gt; | cylinders &lt;fct&gt; | dispacement &lt;dbl&gt; | horsepower &lt;dbl&gt; | weight &lt;dbl&gt; | acceleration &lt;dbl&gt; | model &lt;int&gt; | origin &lt;int&gt; | name &lt;chr&gt; |\n",
       "|---|---|---|---|---|---|---|---|---|---|\n",
       "| 1 | 18 | 8 | 307 | 130 | 3504 | 12.0 | 70 | 1 | chevrolet chevelle malibu |\n",
       "| 2 | 15 | 8 | 350 | 165 | 3693 | 11.5 | 70 | 1 | buick skylark 320         |\n",
       "| 3 | 18 | 8 | 318 | 150 | 3436 | 11.0 | 70 | 1 | plymouth satellite        |\n",
       "| 4 | 16 | 8 | 304 | 150 | 3433 | 12.0 | 70 | 1 | amc rebel sst             |\n",
       "| 5 | 17 | 8 | 302 | 140 | 3449 | 10.5 | 70 | 1 | ford torino               |\n",
       "| 6 | 15 | 8 | 429 | 198 | 4341 | 10.0 | 70 | 1 | ford galaxie 500          |\n",
       "\n"
      ],
      "text/plain": [
       "  mpg cylinders dispacement horsepower weight acceleration model origin\n",
       "1 18  8         307         130        3504   12.0         70    1     \n",
       "2 15  8         350         165        3693   11.5         70    1     \n",
       "3 18  8         318         150        3436   11.0         70    1     \n",
       "4 16  8         304         150        3433   12.0         70    1     \n",
       "5 17  8         302         140        3449   10.5         70    1     \n",
       "6 15  8         429         198        4341   10.0         70    1     \n",
       "  name                     \n",
       "1 chevrolet chevelle malibu\n",
       "2 buick skylark 320        \n",
       "3 plymouth satellite       \n",
       "4 amc rebel sst            \n",
       "5 ford torino              \n",
       "6 ford galaxie 500         "
      ]
     },
     "metadata": {},
     "output_type": "display_data"
    }
   ],
   "source": [
    "cars <- read.table(\"auto-mpg.data\")%>%\n",
    "    rename(mpg = V1,\n",
    "           cylinders = V2,\n",
    "           dispacement = V3,\n",
    "           horsepower = V4,\n",
    "           weight = V5,\n",
    "           acceleration = V6,\n",
    "           model = V7,\n",
    "           origin = V8,\n",
    "           name = V9) %>%\n",
    "    mutate(horsepower = as.numeric(horsepower),\n",
    "           cylinders = as.factor(cylinders))%>%\n",
    "    filter(!is.na(mpg),\n",
    "           !is.na(horsepower),\n",
    "           !is.na(acceleration),\n",
    "           cylinders %in% c(8,6,4))\n",
    "head(cars)"
   ]
  },
  {
   "cell_type": "markdown",
   "id": "8518064d-9179-4d9c-a775-c7d13a0acef2",
   "metadata": {},
   "source": [
    "2. select the sariables we are interested in and calculate the parameters we will use."
   ]
  },
  {
   "cell_type": "code",
   "execution_count": 6,
   "id": "dc99ce1d-a0f9-4fe5-ae0e-22b494f3c936",
   "metadata": {},
   "outputs": [
    {
     "data": {
      "text/html": [
       "<table class=\"dataframe\">\n",
       "<caption>A tibble: 3 × 9</caption>\n",
       "<thead>\n",
       "\t<tr><th scope=col>cylinders</th><th scope=col>sample_size</th><th scope=col>mean</th><th scope=col>sd</th><th scope=col>minimum</th><th scope=col>lower_quartile</th><th scope=col>median</th><th scope=col>upper_quartile</th><th scope=col>max</th></tr>\n",
       "\t<tr><th scope=col>&lt;fct&gt;</th><th scope=col>&lt;int&gt;</th><th scope=col>&lt;dbl&gt;</th><th scope=col>&lt;dbl&gt;</th><th scope=col>&lt;dbl&gt;</th><th scope=col>&lt;dbl&gt;</th><th scope=col>&lt;dbl&gt;</th><th scope=col>&lt;dbl&gt;</th><th scope=col>&lt;dbl&gt;</th></tr>\n",
       "</thead>\n",
       "<tbody>\n",
       "\t<tr><td>4</td><td>199</td><td> 78.28141</td><td>14.52310</td><td>46</td><td> 68.0</td><td> 78</td><td> 88</td><td>115</td></tr>\n",
       "\t<tr><td>6</td><td> 83</td><td>101.50602</td><td>14.31047</td><td>72</td><td> 92.5</td><td>100</td><td>110</td><td>165</td></tr>\n",
       "\t<tr><td>8</td><td>103</td><td>158.30097</td><td>28.45355</td><td>90</td><td>140.0</td><td>150</td><td>175</td><td>230</td></tr>\n",
       "</tbody>\n",
       "</table>\n"
      ],
      "text/latex": [
       "A tibble: 3 × 9\n",
       "\\begin{tabular}{lllllllll}\n",
       " cylinders & sample\\_size & mean & sd & minimum & lower\\_quartile & median & upper\\_quartile & max\\\\\n",
       " <fct> & <int> & <dbl> & <dbl> & <dbl> & <dbl> & <dbl> & <dbl> & <dbl>\\\\\n",
       "\\hline\n",
       "\t 4 & 199 &  78.28141 & 14.52310 & 46 &  68.0 &  78 &  88 & 115\\\\\n",
       "\t 6 &  83 & 101.50602 & 14.31047 & 72 &  92.5 & 100 & 110 & 165\\\\\n",
       "\t 8 & 103 & 158.30097 & 28.45355 & 90 & 140.0 & 150 & 175 & 230\\\\\n",
       "\\end{tabular}\n"
      ],
      "text/markdown": [
       "\n",
       "A tibble: 3 × 9\n",
       "\n",
       "| cylinders &lt;fct&gt; | sample_size &lt;int&gt; | mean &lt;dbl&gt; | sd &lt;dbl&gt; | minimum &lt;dbl&gt; | lower_quartile &lt;dbl&gt; | median &lt;dbl&gt; | upper_quartile &lt;dbl&gt; | max &lt;dbl&gt; |\n",
       "|---|---|---|---|---|---|---|---|---|\n",
       "| 4 | 199 |  78.28141 | 14.52310 | 46 |  68.0 |  78 |  88 | 115 |\n",
       "| 6 |  83 | 101.50602 | 14.31047 | 72 |  92.5 | 100 | 110 | 165 |\n",
       "| 8 | 103 | 158.30097 | 28.45355 | 90 | 140.0 | 150 | 175 | 230 |\n",
       "\n"
      ],
      "text/plain": [
       "  cylinders sample_size mean      sd       minimum lower_quartile median\n",
       "1 4         199          78.28141 14.52310 46       68.0           78   \n",
       "2 6          83         101.50602 14.31047 72       92.5          100   \n",
       "3 8         103         158.30097 28.45355 90      140.0          150   \n",
       "  upper_quartile max\n",
       "1  88            115\n",
       "2 110            165\n",
       "3 175            230"
      ]
     },
     "metadata": {},
     "output_type": "display_data"
    }
   ],
   "source": [
    "cars_summ_hp <- cars %>% \n",
    "    select(cylinders, horsepower) %>%\n",
    "    group_by(cylinders) %>%\n",
    "    summarize(sample_size = n(),\n",
    "              mean = mean(horsepower),\n",
    "              sd = sd(horsepower),\n",
    "              minimum = min(horsepower),\n",
    "              lower_quartile = quantile(horsepower, 0.25),\n",
    "              median = median(horsepower),\n",
    "              upper_quartile = quantile(horsepower, 0.75),\n",
    "              max = max(horsepower))\n",
    "cars_summ_hp"
   ]
  },
  {
   "cell_type": "markdown",
   "id": "c4d4ec7d-9122-4793-ae58-e0e5da191724",
   "metadata": {},
   "source": [
    "## Method : Plan"
   ]
  },
  {
   "cell_type": "markdown",
   "id": "6d410374-a5bd-47c2-8f32-a0c1c0c7832b",
   "metadata": {},
   "source": [
    "## Reference"
   ]
  },
  {
   "cell_type": "markdown",
   "id": "8965a2f3-3421-4874-87dd-0561e8bda900",
   "metadata": {},
   "source": [
    "A. R. Millner, \"Multi-hundred horsepower permanent magnet brushless disc motors,\" Proceedings of 1994 IEEE Applied Power Electronics Conference and Exposition - ASPEC'94, 1994, pp. 351-355 vol.1, doi: 10.1109/APEC.1994.316378."
   ]
  },
  {
   "cell_type": "code",
   "execution_count": null,
   "id": "91b0a4aa-88b2-432d-afb4-00632ff9501a",
   "metadata": {},
   "outputs": [],
   "source": []
  }
 ],
 "metadata": {
  "kernelspec": {
   "display_name": "R",
   "language": "R",
   "name": "ir"
  },
  "language_info": {
   "codemirror_mode": "r",
   "file_extension": ".r",
   "mimetype": "text/x-r-source",
   "name": "R",
   "pygments_lexer": "r",
   "version": "4.0.5"
  }
 },
 "nbformat": 4,
 "nbformat_minor": 5
}
