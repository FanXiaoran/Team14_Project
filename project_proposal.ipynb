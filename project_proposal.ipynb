{
 "cells": [
  {
   "cell_type": "markdown",
   "id": "fd09d734-9297-4210-a817-9b223383bae4",
   "metadata": {},
   "source": [
    "# Project Proposal"
   ]
  },
  {
   "cell_type": "markdown",
   "id": "6ac53c74-bbe4-4b6b-8f28-3e99e4ae7c9a",
   "metadata": {
    "tags": []
   },
   "source": [
    "## How Horsepower Varies Based on the Numbers of Cylinders in a Car Engine\n",
    " **Authors** Group 14: Sid Ahuja, Tejasvi Kathuria, Xiaoran Fan, Ci Xu"
   ]
  },
  {
   "cell_type": "markdown",
   "id": "6f5ea1ed-8ad1-4cc3-a20b-3b847ddf4361",
   "metadata": {},
   "source": [
    "## Introduction\n"
   ]
  },
  {
   "cell_type": "markdown",
   "id": "8af6da18-712d-42cd-99bb-9a58f39ecc45",
   "metadata": {},
   "source": [
    "There are many factors that determine the performance of a car. Previous research demonstrates that the engine efficieny is related to the volume and number of the cylinders (Emiroğlu et al., 2018). However, there are few and limited studies on the relationship between the number of cylinders and horsepower. In general, cars with different number of cylinders have different horsepower (Kellermayr et al., 2019). We are interested in the different effects on horsepower between the cars with 4- and 6-cylinder engines. Our question is: \"Do cars with 6-cylinder engines have higher horsepowers than cars with 4-cylinder engines?\" We will answer this question by analysing the sample mean (the location statistics) and the standard deviation (the scale statistics) of the horsepower and how it differs with the number of cylinders in the samples."
   ]
  },
  {
   "cell_type": "markdown",
   "id": "11fcc7ff-6b62-46e4-bc67-a82452cf434f",
   "metadata": {},
   "source": [
    "Based on our question, our competeing hypotheses are (where μ represents the average horsepower):\n",
    "- Null Hypothesis: There is no difference in horsepower between 4- and 6-cylinder engines (μ<sub>6-cyl</sub> − μ<sub>4-cyl</sub> = 0)\n",
    "- Alternative Hypothesis: 6-cylinder engines have a greater horsepower than 4-cylinder engines (μ<sub>6-cyl</sub> − μ<sub>4-cyl</sub> > 0)"
   ]
  },
  {
   "cell_type": "markdown",
   "id": "a737a174-c1d9-471e-b9d3-32df5a97c004",
   "metadata": {},
   "source": [
    "Our data set is the Auto MPG data set, which was obtained from Carnegie Mellon University's StatLib library. The 1983 American Statistical Association Exposition made use of this dataset. "
   ]
  },
  {
   "cell_type": "markdown",
   "id": "28240c54-6852-46a8-82a2-fa4c1659e7fa",
   "metadata": {},
   "source": [
    "Attribute informations:"
   ]
  },
  {
   "cell_type": "markdown",
   "id": "488e5d05-919e-4527-9ed6-d1b38f0e610c",
   "metadata": {},
   "source": [
    "|Variables|Attribute|\n",
    "|:---:|:---:|\n",
    "|mpg|continuous|\n",
    "|cylinders|multi-valued discrete|\n",
    "|displacement|continuous|\n",
    "|horsepower|continuous|\n",
    "|weight|continuous|\n",
    "|acceleration|continuous|\n",
    "|model year|multi-valued discrete|\n",
    "|origin|multi-valued discrete|\n",
    "|car name|string (unique for each instance)|\n",
    "\n"
   ]
  },
  {
   "cell_type": "markdown",
   "id": "e116b3bc-c050-4874-8e03-bffe176a475f",
   "metadata": {},
   "source": [
    "## Preliminary Results\n"
   ]
  },
  {
   "cell_type": "markdown",
   "id": "f057535d-7e87-4deb-a93e-fc8bf9f9f529",
   "metadata": {},
   "source": [
    "### Loading Required Packages and Setting Seed"
   ]
  },
  {
   "cell_type": "code",
   "execution_count": 14,
   "id": "82b07824-8876-4364-b896-8e331fdb813b",
   "metadata": {},
   "outputs": [],
   "source": [
    "library(tidyverse)\n",
    "library(infer)\n",
    "library(repr)\n",
    "library(cowplot)\n",
    "library(datateachr)\n",
    "library(digest)\n",
    "library(dplyr)\n",
    "set.seed(1234)"
   ]
  },
  {
   "cell_type": "markdown",
   "id": "a273a766-9c85-424a-9b7e-97ac56b8bba4",
   "metadata": {},
   "source": [
    "### Loading The Data"
   ]
  },
  {
   "cell_type": "code",
   "execution_count": 15,
   "id": "014521f2-906a-4033-94e1-d6dd4f502b31",
   "metadata": {},
   "outputs": [],
   "source": [
    "download.file(\"https://archive.ics.uci.edu/ml/machine-learning-databases/auto-mpg/auto-mpg.data\", \n",
    "              \"auto-mpg.data\")"
   ]
  },
  {
   "cell_type": "code",
   "execution_count": 16,
   "id": "8da5f6f5-3668-40fd-86e3-2af7077d49d3",
   "metadata": {},
   "outputs": [
    {
     "data": {
      "text/html": [
       "<table class=\"dataframe\">\n",
       "<caption>A data.frame: 6 × 9</caption>\n",
       "<thead>\n",
       "\t<tr><th></th><th scope=col>V1</th><th scope=col>V2</th><th scope=col>V3</th><th scope=col>V4</th><th scope=col>V5</th><th scope=col>V6</th><th scope=col>V7</th><th scope=col>V8</th><th scope=col>V9</th></tr>\n",
       "\t<tr><th></th><th scope=col>&lt;dbl&gt;</th><th scope=col>&lt;int&gt;</th><th scope=col>&lt;dbl&gt;</th><th scope=col>&lt;chr&gt;</th><th scope=col>&lt;dbl&gt;</th><th scope=col>&lt;dbl&gt;</th><th scope=col>&lt;int&gt;</th><th scope=col>&lt;int&gt;</th><th scope=col>&lt;chr&gt;</th></tr>\n",
       "</thead>\n",
       "<tbody>\n",
       "\t<tr><th scope=row>1</th><td>18</td><td>8</td><td>307</td><td>130.0</td><td>3504</td><td>12.0</td><td>70</td><td>1</td><td>chevrolet chevelle malibu</td></tr>\n",
       "\t<tr><th scope=row>2</th><td>15</td><td>8</td><td>350</td><td>165.0</td><td>3693</td><td>11.5</td><td>70</td><td>1</td><td>buick skylark 320        </td></tr>\n",
       "\t<tr><th scope=row>3</th><td>18</td><td>8</td><td>318</td><td>150.0</td><td>3436</td><td>11.0</td><td>70</td><td>1</td><td>plymouth satellite       </td></tr>\n",
       "\t<tr><th scope=row>4</th><td>16</td><td>8</td><td>304</td><td>150.0</td><td>3433</td><td>12.0</td><td>70</td><td>1</td><td>amc rebel sst            </td></tr>\n",
       "\t<tr><th scope=row>5</th><td>17</td><td>8</td><td>302</td><td>140.0</td><td>3449</td><td>10.5</td><td>70</td><td>1</td><td>ford torino              </td></tr>\n",
       "\t<tr><th scope=row>6</th><td>15</td><td>8</td><td>429</td><td>198.0</td><td>4341</td><td>10.0</td><td>70</td><td>1</td><td>ford galaxie 500         </td></tr>\n",
       "</tbody>\n",
       "</table>\n"
      ],
      "text/latex": [
       "A data.frame: 6 × 9\n",
       "\\begin{tabular}{r|lllllllll}\n",
       "  & V1 & V2 & V3 & V4 & V5 & V6 & V7 & V8 & V9\\\\\n",
       "  & <dbl> & <int> & <dbl> & <chr> & <dbl> & <dbl> & <int> & <int> & <chr>\\\\\n",
       "\\hline\n",
       "\t1 & 18 & 8 & 307 & 130.0 & 3504 & 12.0 & 70 & 1 & chevrolet chevelle malibu\\\\\n",
       "\t2 & 15 & 8 & 350 & 165.0 & 3693 & 11.5 & 70 & 1 & buick skylark 320        \\\\\n",
       "\t3 & 18 & 8 & 318 & 150.0 & 3436 & 11.0 & 70 & 1 & plymouth satellite       \\\\\n",
       "\t4 & 16 & 8 & 304 & 150.0 & 3433 & 12.0 & 70 & 1 & amc rebel sst            \\\\\n",
       "\t5 & 17 & 8 & 302 & 140.0 & 3449 & 10.5 & 70 & 1 & ford torino              \\\\\n",
       "\t6 & 15 & 8 & 429 & 198.0 & 4341 & 10.0 & 70 & 1 & ford galaxie 500         \\\\\n",
       "\\end{tabular}\n"
      ],
      "text/markdown": [
       "\n",
       "A data.frame: 6 × 9\n",
       "\n",
       "| <!--/--> | V1 &lt;dbl&gt; | V2 &lt;int&gt; | V3 &lt;dbl&gt; | V4 &lt;chr&gt; | V5 &lt;dbl&gt; | V6 &lt;dbl&gt; | V7 &lt;int&gt; | V8 &lt;int&gt; | V9 &lt;chr&gt; |\n",
       "|---|---|---|---|---|---|---|---|---|---|\n",
       "| 1 | 18 | 8 | 307 | 130.0 | 3504 | 12.0 | 70 | 1 | chevrolet chevelle malibu |\n",
       "| 2 | 15 | 8 | 350 | 165.0 | 3693 | 11.5 | 70 | 1 | buick skylark 320         |\n",
       "| 3 | 18 | 8 | 318 | 150.0 | 3436 | 11.0 | 70 | 1 | plymouth satellite        |\n",
       "| 4 | 16 | 8 | 304 | 150.0 | 3433 | 12.0 | 70 | 1 | amc rebel sst             |\n",
       "| 5 | 17 | 8 | 302 | 140.0 | 3449 | 10.5 | 70 | 1 | ford torino               |\n",
       "| 6 | 15 | 8 | 429 | 198.0 | 4341 | 10.0 | 70 | 1 | ford galaxie 500          |\n",
       "\n"
      ],
      "text/plain": [
       "  V1 V2 V3  V4    V5   V6   V7 V8 V9                       \n",
       "1 18 8  307 130.0 3504 12.0 70 1  chevrolet chevelle malibu\n",
       "2 15 8  350 165.0 3693 11.5 70 1  buick skylark 320        \n",
       "3 18 8  318 150.0 3436 11.0 70 1  plymouth satellite       \n",
       "4 16 8  304 150.0 3433 12.0 70 1  amc rebel sst            \n",
       "5 17 8  302 140.0 3449 10.5 70 1  ford torino              \n",
       "6 15 8  429 198.0 4341 10.0 70 1  ford galaxie 500         "
      ]
     },
     "metadata": {},
     "output_type": "display_data"
    }
   ],
   "source": [
    "cars <- read.table(\"auto-mpg.data\") \n",
    "head(cars)"
   ]
  },
  {
   "cell_type": "markdown",
   "id": "8dadc498-1afb-457e-92bd-b75848b3e882",
   "metadata": {},
   "source": [
    "### Cleaning and Wrangling The Data"
   ]
  },
  {
   "cell_type": "markdown",
   "id": "9cba730c-e486-46c7-8070-95b5c1382778",
   "metadata": {},
   "source": [
    "Renaming the variables and cleaning the data. The variable of horsepower is changed into a numeric variable, and the variable of the number of cylinders is changed into a categorical variable. Then, we delete the null values in the \"mpg\", \"horsepower\" and \"acceleration\" columns."
   ]
  },
  {
   "cell_type": "code",
   "execution_count": 17,
   "id": "8dc67618-7a87-481d-acc1-f7f72b11a01c",
   "metadata": {},
   "outputs": [
    {
     "name": "stderr",
     "output_type": "stream",
     "text": [
      "Warning message in mask$eval_all_mutate(quo):\n",
      "“NAs introduced by coercion”\n"
     ]
    },
    {
     "data": {
      "text/html": [
       "<table class=\"dataframe\">\n",
       "<caption>A data.frame: 6 × 9</caption>\n",
       "<thead>\n",
       "\t<tr><th></th><th scope=col>mpg</th><th scope=col>cylinders</th><th scope=col>dispacement</th><th scope=col>horsepower</th><th scope=col>weight</th><th scope=col>acceleration</th><th scope=col>model</th><th scope=col>origin</th><th scope=col>name</th></tr>\n",
       "\t<tr><th></th><th scope=col>&lt;dbl&gt;</th><th scope=col>&lt;fct&gt;</th><th scope=col>&lt;dbl&gt;</th><th scope=col>&lt;dbl&gt;</th><th scope=col>&lt;dbl&gt;</th><th scope=col>&lt;dbl&gt;</th><th scope=col>&lt;int&gt;</th><th scope=col>&lt;int&gt;</th><th scope=col>&lt;chr&gt;</th></tr>\n",
       "</thead>\n",
       "<tbody>\n",
       "\t<tr><th scope=row>1</th><td>24</td><td>4</td><td>113</td><td>95</td><td>2372</td><td>15.0</td><td>70</td><td>3</td><td>toyota corona mark ii       </td></tr>\n",
       "\t<tr><th scope=row>2</th><td>22</td><td>6</td><td>198</td><td>95</td><td>2833</td><td>15.5</td><td>70</td><td>1</td><td>plymouth duster             </td></tr>\n",
       "\t<tr><th scope=row>3</th><td>18</td><td>6</td><td>199</td><td>97</td><td>2774</td><td>15.5</td><td>70</td><td>1</td><td>amc hornet                  </td></tr>\n",
       "\t<tr><th scope=row>4</th><td>21</td><td>6</td><td>200</td><td>85</td><td>2587</td><td>16.0</td><td>70</td><td>1</td><td>ford maverick               </td></tr>\n",
       "\t<tr><th scope=row>5</th><td>27</td><td>4</td><td> 97</td><td>88</td><td>2130</td><td>14.5</td><td>70</td><td>3</td><td>datsun pl510                </td></tr>\n",
       "\t<tr><th scope=row>6</th><td>26</td><td>4</td><td> 97</td><td>46</td><td>1835</td><td>20.5</td><td>70</td><td>2</td><td>volkswagen 1131 deluxe sedan</td></tr>\n",
       "</tbody>\n",
       "</table>\n"
      ],
      "text/latex": [
       "A data.frame: 6 × 9\n",
       "\\begin{tabular}{r|lllllllll}\n",
       "  & mpg & cylinders & dispacement & horsepower & weight & acceleration & model & origin & name\\\\\n",
       "  & <dbl> & <fct> & <dbl> & <dbl> & <dbl> & <dbl> & <int> & <int> & <chr>\\\\\n",
       "\\hline\n",
       "\t1 & 24 & 4 & 113 & 95 & 2372 & 15.0 & 70 & 3 & toyota corona mark ii       \\\\\n",
       "\t2 & 22 & 6 & 198 & 95 & 2833 & 15.5 & 70 & 1 & plymouth duster             \\\\\n",
       "\t3 & 18 & 6 & 199 & 97 & 2774 & 15.5 & 70 & 1 & amc hornet                  \\\\\n",
       "\t4 & 21 & 6 & 200 & 85 & 2587 & 16.0 & 70 & 1 & ford maverick               \\\\\n",
       "\t5 & 27 & 4 &  97 & 88 & 2130 & 14.5 & 70 & 3 & datsun pl510                \\\\\n",
       "\t6 & 26 & 4 &  97 & 46 & 1835 & 20.5 & 70 & 2 & volkswagen 1131 deluxe sedan\\\\\n",
       "\\end{tabular}\n"
      ],
      "text/markdown": [
       "\n",
       "A data.frame: 6 × 9\n",
       "\n",
       "| <!--/--> | mpg &lt;dbl&gt; | cylinders &lt;fct&gt; | dispacement &lt;dbl&gt; | horsepower &lt;dbl&gt; | weight &lt;dbl&gt; | acceleration &lt;dbl&gt; | model &lt;int&gt; | origin &lt;int&gt; | name &lt;chr&gt; |\n",
       "|---|---|---|---|---|---|---|---|---|---|\n",
       "| 1 | 24 | 4 | 113 | 95 | 2372 | 15.0 | 70 | 3 | toyota corona mark ii        |\n",
       "| 2 | 22 | 6 | 198 | 95 | 2833 | 15.5 | 70 | 1 | plymouth duster              |\n",
       "| 3 | 18 | 6 | 199 | 97 | 2774 | 15.5 | 70 | 1 | amc hornet                   |\n",
       "| 4 | 21 | 6 | 200 | 85 | 2587 | 16.0 | 70 | 1 | ford maverick                |\n",
       "| 5 | 27 | 4 |  97 | 88 | 2130 | 14.5 | 70 | 3 | datsun pl510                 |\n",
       "| 6 | 26 | 4 |  97 | 46 | 1835 | 20.5 | 70 | 2 | volkswagen 1131 deluxe sedan |\n",
       "\n"
      ],
      "text/plain": [
       "  mpg cylinders dispacement horsepower weight acceleration model origin\n",
       "1 24  4         113         95         2372   15.0         70    3     \n",
       "2 22  6         198         95         2833   15.5         70    1     \n",
       "3 18  6         199         97         2774   15.5         70    1     \n",
       "4 21  6         200         85         2587   16.0         70    1     \n",
       "5 27  4          97         88         2130   14.5         70    3     \n",
       "6 26  4          97         46         1835   20.5         70    2     \n",
       "  name                        \n",
       "1 toyota corona mark ii       \n",
       "2 plymouth duster             \n",
       "3 amc hornet                  \n",
       "4 ford maverick               \n",
       "5 datsun pl510                \n",
       "6 volkswagen 1131 deluxe sedan"
      ]
     },
     "metadata": {},
     "output_type": "display_data"
    }
   ],
   "source": [
    "cars <- read.table(\"auto-mpg.data\")%>%\n",
    "    rename(mpg = V1,\n",
    "           cylinders = V2,\n",
    "           dispacement = V3,\n",
    "           horsepower = V4,\n",
    "           weight = V5,\n",
    "           acceleration = V6,\n",
    "           model = V7,\n",
    "           origin = V8,\n",
    "           name = V9) %>%\n",
    "    mutate(horsepower = as.numeric(horsepower),\n",
    "           cylinders = as.factor(cylinders))%>%\n",
    "    filter(!is.na(mpg),\n",
    "           !is.na(horsepower),\n",
    "           !is.na(acceleration),\n",
    "           cylinders %in% c(6,4))\n",
    "head(cars)"
   ]
  },
  {
   "cell_type": "markdown",
   "id": "8518064d-9179-4d9c-a775-c7d13a0acef2",
   "metadata": {},
   "source": [
    "Selecting the columns relevant to our study and calculating the statistics we will use."
   ]
  },
  {
   "cell_type": "code",
   "execution_count": 18,
   "id": "dc99ce1d-a0f9-4fe5-ae0e-22b494f3c936",
   "metadata": {},
   "outputs": [
    {
     "data": {
      "text/html": [
       "<table class=\"dataframe\">\n",
       "<caption>A data.frame: 6 × 2</caption>\n",
       "<thead>\n",
       "\t<tr><th></th><th scope=col>cylinders</th><th scope=col>horsepower</th></tr>\n",
       "\t<tr><th></th><th scope=col>&lt;fct&gt;</th><th scope=col>&lt;dbl&gt;</th></tr>\n",
       "</thead>\n",
       "<tbody>\n",
       "\t<tr><th scope=row>1</th><td>4</td><td>95</td></tr>\n",
       "\t<tr><th scope=row>2</th><td>6</td><td>95</td></tr>\n",
       "\t<tr><th scope=row>3</th><td>6</td><td>97</td></tr>\n",
       "\t<tr><th scope=row>4</th><td>6</td><td>85</td></tr>\n",
       "\t<tr><th scope=row>5</th><td>4</td><td>88</td></tr>\n",
       "\t<tr><th scope=row>6</th><td>4</td><td>46</td></tr>\n",
       "</tbody>\n",
       "</table>\n"
      ],
      "text/latex": [
       "A data.frame: 6 × 2\n",
       "\\begin{tabular}{r|ll}\n",
       "  & cylinders & horsepower\\\\\n",
       "  & <fct> & <dbl>\\\\\n",
       "\\hline\n",
       "\t1 & 4 & 95\\\\\n",
       "\t2 & 6 & 95\\\\\n",
       "\t3 & 6 & 97\\\\\n",
       "\t4 & 6 & 85\\\\\n",
       "\t5 & 4 & 88\\\\\n",
       "\t6 & 4 & 46\\\\\n",
       "\\end{tabular}\n"
      ],
      "text/markdown": [
       "\n",
       "A data.frame: 6 × 2\n",
       "\n",
       "| <!--/--> | cylinders &lt;fct&gt; | horsepower &lt;dbl&gt; |\n",
       "|---|---|---|\n",
       "| 1 | 4 | 95 |\n",
       "| 2 | 6 | 95 |\n",
       "| 3 | 6 | 97 |\n",
       "| 4 | 6 | 85 |\n",
       "| 5 | 4 | 88 |\n",
       "| 6 | 4 | 46 |\n",
       "\n"
      ],
      "text/plain": [
       "  cylinders horsepower\n",
       "1 4         95        \n",
       "2 6         95        \n",
       "3 6         97        \n",
       "4 6         85        \n",
       "5 4         88        \n",
       "6 4         46        "
      ]
     },
     "metadata": {},
     "output_type": "display_data"
    },
    {
     "data": {
      "text/html": [
       "<table class=\"dataframe\">\n",
       "<caption>A tibble: 2 × 9</caption>\n",
       "<thead>\n",
       "\t<tr><th scope=col>cylinders</th><th scope=col>size</th><th scope=col>mean</th><th scope=col>sd</th><th scope=col>minimum</th><th scope=col>lower_quartile</th><th scope=col>median</th><th scope=col>upper_quartile</th><th scope=col>max</th></tr>\n",
       "\t<tr><th scope=col>&lt;fct&gt;</th><th scope=col>&lt;int&gt;</th><th scope=col>&lt;dbl&gt;</th><th scope=col>&lt;dbl&gt;</th><th scope=col>&lt;dbl&gt;</th><th scope=col>&lt;dbl&gt;</th><th scope=col>&lt;dbl&gt;</th><th scope=col>&lt;dbl&gt;</th><th scope=col>&lt;dbl&gt;</th></tr>\n",
       "</thead>\n",
       "<tbody>\n",
       "\t<tr><td>4</td><td>199</td><td> 78.28141</td><td>14.52310</td><td>46</td><td>68.0</td><td> 78</td><td> 88</td><td>115</td></tr>\n",
       "\t<tr><td>6</td><td> 83</td><td>101.50602</td><td>14.31047</td><td>72</td><td>92.5</td><td>100</td><td>110</td><td>165</td></tr>\n",
       "</tbody>\n",
       "</table>\n"
      ],
      "text/latex": [
       "A tibble: 2 × 9\n",
       "\\begin{tabular}{lllllllll}\n",
       " cylinders & size & mean & sd & minimum & lower\\_quartile & median & upper\\_quartile & max\\\\\n",
       " <fct> & <int> & <dbl> & <dbl> & <dbl> & <dbl> & <dbl> & <dbl> & <dbl>\\\\\n",
       "\\hline\n",
       "\t 4 & 199 &  78.28141 & 14.52310 & 46 & 68.0 &  78 &  88 & 115\\\\\n",
       "\t 6 &  83 & 101.50602 & 14.31047 & 72 & 92.5 & 100 & 110 & 165\\\\\n",
       "\\end{tabular}\n"
      ],
      "text/markdown": [
       "\n",
       "A tibble: 2 × 9\n",
       "\n",
       "| cylinders &lt;fct&gt; | size &lt;int&gt; | mean &lt;dbl&gt; | sd &lt;dbl&gt; | minimum &lt;dbl&gt; | lower_quartile &lt;dbl&gt; | median &lt;dbl&gt; | upper_quartile &lt;dbl&gt; | max &lt;dbl&gt; |\n",
       "|---|---|---|---|---|---|---|---|---|\n",
       "| 4 | 199 |  78.28141 | 14.52310 | 46 | 68.0 |  78 |  88 | 115 |\n",
       "| 6 |  83 | 101.50602 | 14.31047 | 72 | 92.5 | 100 | 110 | 165 |\n",
       "\n"
      ],
      "text/plain": [
       "  cylinders size mean      sd       minimum lower_quartile median\n",
       "1 4         199   78.28141 14.52310 46      68.0            78   \n",
       "2 6          83  101.50602 14.31047 72      92.5           100   \n",
       "  upper_quartile max\n",
       "1  88            115\n",
       "2 110            165"
      ]
     },
     "metadata": {},
     "output_type": "display_data"
    }
   ],
   "source": [
    "cars_variables <- cars %>% \n",
    "    select(cylinders, horsepower)\n",
    "cars_summ_hp <- cars %>%\n",
    "    group_by(cylinders) %>%\n",
    "    summarize(size = n(),\n",
    "              mean = mean(horsepower),\n",
    "              sd = sd(horsepower),\n",
    "              minimum = min(horsepower),\n",
    "              lower_quartile = quantile(horsepower, 0.25),\n",
    "              median = median(horsepower),\n",
    "              upper_quartile = quantile(horsepower, 0.75),\n",
    "              max = max(horsepower))\n",
    "head(cars_variables)\n",
    "cars_summ_hp"
   ]
  },
  {
   "cell_type": "markdown",
   "id": "5414a417-16ee-45cf-bc61-cedd71947cc2",
   "metadata": {
    "tags": []
   },
   "source": [
    "### Plotting The Relevant Data"
   ]
  },
  {
   "cell_type": "markdown",
   "id": "33ba9d56-e624-4651-941e-b8423a3ed5bb",
   "metadata": {
    "tags": []
   },
   "source": [
    "### Boxplot of The Cylinders and The Horsepower"
   ]
  },
  {
   "cell_type": "code",
   "execution_count": 19,
   "id": "61248a24-9a05-42ac-80fa-1e7ece1480ec",
   "metadata": {},
   "outputs": [
    {
     "data": {
      "image/png": "[encoded data removed]",
      "text/plain": [
       "plot without title"
      ]
     },
     "metadata": {
      "image/png": {
       "height": 420,
       "width": 420
      }
     },
     "output_type": "display_data"
    }
   ],
   "source": [
    "cars_boxplot <- cars %>%\n",
    "    ggplot(aes(x= cylinders, y = horsepower)) +\n",
    "    geom_boxplot()+\n",
    "    ggtitle(\"Boxplot of Horsepower for 4- and 6-cylinder cars\")\n",
    "cars_boxplot"
   ]
  },
  {
   "cell_type": "markdown",
   "id": "f039cdbd-a248-426f-9cfe-64578bcbea4b",
   "metadata": {},
   "source": [
    "Here, we can see that that the standard deviation of horsepower for 4 cylinders is similar to the standard deviation of horsepower for 6 cylinders. We can also see that the sample's average horsepower of 6 cylinder engines is greater than the average horsepower of 6 cylinder engines which suggests a differnce; however, the overlap between the boxplots is of some concern and requires further testing. "
   ]
  },
  {
   "cell_type": "markdown",
   "id": "b6c15a1a-5342-4e3d-ae74-47c9774aa0ed",
   "metadata": {},
   "source": [
    "### Bootstrap Sampling Distribution"
   ]
  },
  {
   "cell_type": "markdown",
   "id": "469fc1f7-f1ad-4eb3-b869-575399b2d129",
   "metadata": {},
   "source": [
    "**4 cylinder cars** <br>\n",
    "- Sample mean marked in red\n",
    "- 90% confidence interval boundaries marked in blue"
   ]
  },
  {
   "cell_type": "code",
   "execution_count": 23,
   "id": "a8a77a72-60ef-469d-b90a-e444a8621170",
   "metadata": {},
   "outputs": [
    {
     "data": {
      "image/png": "[encoded data removed]",
      "text/plain": [
       "plot without title"
      ]
     },
     "metadata": {
      "image/png": {
       "height": 420,
       "width": 420
      }
     },
     "output_type": "display_data"
    }
   ],
   "source": [
    "cars_bootstrapped1 <- cars %>%\n",
    "    filter(cylinders == \"4\") %>%\n",
    "    specify(response = horsepower) %>%\n",
    "    generate(type = \"bootstrap\", reps = 199) %>%\n",
    "    calculate(stat = \"mean\")\n",
    "\n",
    "cars_ci1 <- cars_bootstrapped1 %>%\n",
    "    get_confidence_interval(level = 0.90, type = \"percentile\")\n",
    "\n",
    "cars_4cylinders_plot <- cars_bootstrapped1 %>%\n",
    "    ggplot(aes(x = stat)) +\n",
    "    geom_histogram(binwidth = 1, color = \"white\") +\n",
    "    geom_vline(xintercept = cars_ci1[[1]], color = \"blue\", size = 1) +\n",
    "    geom_vline(xintercept = cars_ci1[[2]], color = \"blue\", size = 1) +\n",
    "    geom_vline(xintercept = cars_summ_hp[[1,3]], color = \"red\", size = 1) +\n",
    "    xlab(\"Mean of Horsepower\") +\n",
    "    ggtitle(\"Bootstrap Distribution of 4 Cylinders Cars' Mean Horsepower\")\n",
    "\n",
    "cars_4cylinders_plot"
   ]
  },
  {
   "cell_type": "markdown",
   "id": "708f730f-f976-4bef-98e3-3ac016b71275",
   "metadata": {},
   "source": [
    "**6 cylinder cars**"
   ]
  },
  {
   "cell_type": "code",
   "execution_count": 24,
   "id": "9712e247-7509-4f52-9711-f8e33a327e42",
   "metadata": {},
   "outputs": [
    {
     "data": {
      "image/png": "[encoded data removed]",
      "text/plain": [
       "plot without title"
      ]
     },
     "metadata": {
      "image/png": {
       "height": 420,
       "width": 420
      }
     },
     "output_type": "display_data"
    }
   ],
   "source": [
    "cars_bootstrapped2 <- cars %>%\n",
    "    filter(cylinders == \"6\") %>%\n",
    "    specify(response = horsepower) %>%\n",
    "    generate(type = \"bootstrap\", reps = 83) %>%\n",
    "    calculate(stat = \"mean\")\n",
    "\n",
    "cars_ci2 <- cars_bootstrapped2 %>%\n",
    "    get_confidence_interval(level = 0.90, type = \"percentile\")\n",
    "\n",
    "cars_6cylinders_plot <- cars_bootstrapped2 %>%\n",
    "    ggplot(aes(x = stat)) +\n",
    "    geom_histogram(binwidth = 1, color = \"white\") +\n",
    "    geom_vline(xintercept = cars_ci2[[1]], color = \"blue\", size = 1) +\n",
    "    geom_vline(xintercept = cars_ci2[[2]], color = \"blue\", size = 1) +\n",
    "    geom_vline(xintercept = cars_summ_hp[[2,3]], color = \"red\", size = 1) +\n",
    "    xlab(\"Mean of Horsepower\") +\n",
    "    ggtitle(\"Bootstrap Distribution of 6 Cylinders Cars' Mean Horsepower\")\n",
    "\n",
    "cars_6cylinders_plot"
   ]
  },
  {
   "cell_type": "markdown",
   "id": "c4d4ec7d-9122-4793-ae58-e0e5da191724",
   "metadata": {},
   "source": [
    "## Method : Plan"
   ]
  },
  {
   "cell_type": "code",
   "execution_count": null,
   "id": "ca421512-b3be-45d5-b012-3b0fa86e33c7",
   "metadata": {},
   "outputs": [],
   "source": []
  },
  {
   "cell_type": "markdown",
   "id": "6d410374-a5bd-47c2-8f32-a0c1c0c7832b",
   "metadata": {},
   "source": [
    "## Reference"
   ]
  },
  {
   "cell_type": "markdown",
   "id": "8965a2f3-3421-4874-87dd-0561e8bda900",
   "metadata": {},
   "source": [
    "Emiroğlu, A. O., & Şen, M. (2018). Combustion, performance and emission characteristics of various alcohol blends in a single cylinder diesel engine. Fuel, 212, 34–40. https://doi.org/10.1016/j.fuel.2017.10.016 "
   ]
  },
  {
   "cell_type": "markdown",
   "id": "335cc364-ccc5-43ec-9a2c-ed634cebc2cc",
   "metadata": {},
   "source": [
    "Kellermayr, G., Schutting, E., &amp; Mitterecker, H. (2019). Turbocharging of engines with low cylinder numbers: A thermodynamic consideration. Automotive and Engine Technology, 4(3-4), 153–167. https://doi.org/10.1007/s41104-019-00048-8 "
   ]
  },
  {
   "cell_type": "code",
   "execution_count": null,
   "id": "03f4ca9d-8343-4ed2-b9a7-ccdc01888478",
   "metadata": {},
   "outputs": [],
   "source": []
  }
 ],
 "metadata": {
  "kernelspec": {
   "display_name": "R",
   "language": "R",
   "name": "ir"
  },
  "language_info": {
   "codemirror_mode": "r",
   "file_extension": ".r",
   "mimetype": "text/x-r-source",
   "name": "R",
   "pygments_lexer": "r",
   "version": "4.0.5"
  }
 },
 "nbformat": 4,
 "nbformat_minor": 5
}
