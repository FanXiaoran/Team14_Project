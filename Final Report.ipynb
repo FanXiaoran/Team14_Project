{
 "cells": [
  {
   "cell_type": "markdown",
   "id": "a531f874-46c8-47be-a7a0-936777661ece",
   "metadata": {},
   "source": [
    "## Final Report"
   ]
  },
  {
   "cell_type": "markdown",
   "id": "b3f9b483-2331-4388-a01d-98d4f44f6efb",
   "metadata": {},
   "source": [
    "## Title"
   ]
  },
  {
   "cell_type": "markdown",
   "id": "1e2113c2-47b6-458c-b147-a9f3e99ff947",
   "metadata": {},
   "source": [
    "## Introduction"
   ]
  },
  {
   "cell_type": "markdown",
   "id": "934a3c7f-864a-452b-975e-d7b7e5e51e86",
   "metadata": {},
   "source": [
    "## Method And Results"
   ]
  },
  {
   "cell_type": "markdown",
   "id": "fdf37333-5dc1-45e0-982b-05c0cde09d5a",
   "metadata": {},
   "source": [
    "## Discussion"
   ]
  },
  {
   "cell_type": "markdown",
   "id": "e9600e8e-eee9-4ee4-a87c-8bf3bfc62eb3",
   "metadata": {},
   "source": [
    "## References"
   ]
  },
  {
   "cell_type": "code",
   "execution_count": null,
   "id": "2ebf7fca-6f65-4c43-aa38-5dafa55810f5",
   "metadata": {},
   "outputs": [],
   "source": []
  }
 ],
 "metadata": {
  "kernelspec": {
   "display_name": "R",
   "language": "R",
   "name": "ir"
  },
  "language_info": {
   "codemirror_mode": "r",
   "file_extension": ".r",
   "mimetype": "text/x-r-source",
   "name": "R",
   "pygments_lexer": "r",
   "version": "4.0.5"
  }
 },
 "nbformat": 4,
 "nbformat_minor": 5
}
