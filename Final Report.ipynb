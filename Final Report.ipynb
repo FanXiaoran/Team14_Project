{
 "cells": [
  {
   "cell_type": "code",
   "execution_count": null,
   "id": "554f02cf-ca13-4819-a0cc-7c2fe9df5ea8",
   "metadata": {},
   "outputs": [],
   "source": []
  }
 ],
 "metadata": {
  "kernelspec": {
   "display_name": "R",
   "language": "R",
   "name": "ir"
  },
  "language_info": {
   "codemirror_mode": "r",
   "file_extension": ".r",
   "mimetype": "text/x-r-source",
   "name": "R",
   "pygments_lexer": "r",
   "version": "4.0.5"
  }
 },
 "nbformat": 4,
 "nbformat_minor": 5
}
