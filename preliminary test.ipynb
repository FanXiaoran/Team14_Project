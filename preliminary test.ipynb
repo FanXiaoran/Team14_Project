{
 "cells": [
  {
   "cell_type": "code",
   "execution_count": 3,
   "id": "f06c4fbf-2681-4477-9aba-e730016b87ed",
   "metadata": {},
   "outputs": [],
   "source": [
    "library(cowplot)\n",
    "library(datateachr)\n",
    "library(digest)\n",
    "library(infer)\n",
    "library(repr)\n",
    "library(tidyverse)\n",
    "library(dplyr)"
   ]
  },
  {
   "cell_type": "markdown",
   "id": "d03053dc-5087-451c-bdec-c506218ff594",
   "metadata": {},
   "source": [
    "## Downloading and Reading"
   ]
  },
  {
   "cell_type": "code",
   "execution_count": 9,
   "id": "d31fd519-4639-48dd-9584-f8003ea22cd1",
   "metadata": {},
   "outputs": [
    {
     "name": "stderr",
     "output_type": "stream",
     "text": [
      "Warning message in mask$eval_all_mutate(quo):\n",
      "“NAs introduced by coercion”\n"
     ]
    },
    {
     "data": {
      "text/html": [
       "<table class=\"dataframe\">\n",
       "<caption>A data.frame: 6 × 4</caption>\n",
       "<thead>\n",
       "\t<tr><th></th><th scope=col>mpg</th><th scope=col>cylinders</th><th scope=col>horsepower</th><th scope=col>acceleration</th></tr>\n",
       "\t<tr><th></th><th scope=col>&lt;dbl&gt;</th><th scope=col>&lt;fct&gt;</th><th scope=col>&lt;dbl&gt;</th><th scope=col>&lt;dbl&gt;</th></tr>\n",
       "</thead>\n",
       "<tbody>\n",
       "\t<tr><th scope=row>1</th><td>18</td><td>8</td><td>130</td><td>12.0</td></tr>\n",
       "\t<tr><th scope=row>2</th><td>15</td><td>8</td><td>165</td><td>11.5</td></tr>\n",
       "\t<tr><th scope=row>3</th><td>18</td><td>8</td><td>150</td><td>11.0</td></tr>\n",
       "\t<tr><th scope=row>4</th><td>16</td><td>8</td><td>150</td><td>12.0</td></tr>\n",
       "\t<tr><th scope=row>5</th><td>17</td><td>8</td><td>140</td><td>10.5</td></tr>\n",
       "\t<tr><th scope=row>6</th><td>15</td><td>8</td><td>198</td><td>10.0</td></tr>\n",
       "</tbody>\n",
       "</table>\n"
      ],
      "text/latex": [
       "A data.frame: 6 × 4\n",
       "\\begin{tabular}{r|llll}\n",
       "  & mpg & cylinders & horsepower & acceleration\\\\\n",
       "  & <dbl> & <fct> & <dbl> & <dbl>\\\\\n",
       "\\hline\n",
       "\t1 & 18 & 8 & 130 & 12.0\\\\\n",
       "\t2 & 15 & 8 & 165 & 11.5\\\\\n",
       "\t3 & 18 & 8 & 150 & 11.0\\\\\n",
       "\t4 & 16 & 8 & 150 & 12.0\\\\\n",
       "\t5 & 17 & 8 & 140 & 10.5\\\\\n",
       "\t6 & 15 & 8 & 198 & 10.0\\\\\n",
       "\\end{tabular}\n"
      ],
      "text/markdown": [
       "\n",
       "A data.frame: 6 × 4\n",
       "\n",
       "| <!--/--> | mpg &lt;dbl&gt; | cylinders &lt;fct&gt; | horsepower &lt;dbl&gt; | acceleration &lt;dbl&gt; |\n",
       "|---|---|---|---|---|\n",
       "| 1 | 18 | 8 | 130 | 12.0 |\n",
       "| 2 | 15 | 8 | 165 | 11.5 |\n",
       "| 3 | 18 | 8 | 150 | 11.0 |\n",
       "| 4 | 16 | 8 | 150 | 12.0 |\n",
       "| 5 | 17 | 8 | 140 | 10.5 |\n",
       "| 6 | 15 | 8 | 198 | 10.0 |\n",
       "\n"
      ],
      "text/plain": [
       "  mpg cylinders horsepower acceleration\n",
       "1 18  8         130        12.0        \n",
       "2 15  8         165        11.5        \n",
       "3 18  8         150        11.0        \n",
       "4 16  8         150        12.0        \n",
       "5 17  8         140        10.5        \n",
       "6 15  8         198        10.0        "
      ]
     },
     "metadata": {},
     "output_type": "display_data"
    }
   ],
   "source": [
    "url <- \"https://archive.ics.uci.edu/ml/machine-learning-databases/auto-mpg/auto-mpg.data\"\n",
    "destfile <- \"auto-mpg.data\"\n",
    "download.file(url, destfile)\n",
    "\n",
    "\n",
    "cars <- read.table(\"auto-mpg.data\")%>%\n",
    "        rename(mpg = V1,\n",
    "          cylinders = V2,\n",
    "          dispacement = V3,\n",
    "          horsepower = V4,\n",
    "          weight = V5,\n",
    "          acceleration = V6,\n",
    "          model = V7,\n",
    "          origin = V8,\n",
    "          name = V9) %>%\n",
    "        mutate(horsepower = as.numeric(horsepower),\n",
    "               cylinders = as.factor(cylinders))%>%\n",
    "        filter(!is.na(mpg),\n",
    "               !is.na(horsepower),\n",
    "               !is.na(acceleration),\n",
    "               cylinders %in% c(8,6,4)) %>%\n",
    "        select(mpg, cylinders, horsepower, acceleration)\n",
    "head(cars)"
   ]
  },
  {
   "cell_type": "markdown",
   "id": "8128822e-887b-412b-a3e4-42ca19d79957",
   "metadata": {},
   "source": [
    "## MPG"
   ]
  },
  {
   "cell_type": "code",
   "execution_count": 10,
   "id": "0ce4fcb3-bbbe-45ef-a160-43b5924fb126",
   "metadata": {},
   "outputs": [
    {
     "data": {
      "text/html": [
       "<table class=\"dataframe\">\n",
       "<caption>A tibble: 3 × 9</caption>\n",
       "<thead>\n",
       "\t<tr><th scope=col>cylinders</th><th scope=col>sample_size</th><th scope=col>mean</th><th scope=col>sd</th><th scope=col>minimum</th><th scope=col>lower_quartile</th><th scope=col>median</th><th scope=col>upper_quartile</th><th scope=col>max</th></tr>\n",
       "\t<tr><th scope=col>&lt;fct&gt;</th><th scope=col>&lt;int&gt;</th><th scope=col>&lt;dbl&gt;</th><th scope=col>&lt;dbl&gt;</th><th scope=col>&lt;dbl&gt;</th><th scope=col>&lt;dbl&gt;</th><th scope=col>&lt;dbl&gt;</th><th scope=col>&lt;dbl&gt;</th><th scope=col>&lt;dbl&gt;</th></tr>\n",
       "</thead>\n",
       "<tbody>\n",
       "\t<tr><td>4</td><td>199</td><td>29.28392</td><td>5.670546</td><td>18</td><td>25</td><td>28.4</td><td>32.95</td><td>46.6</td></tr>\n",
       "\t<tr><td>6</td><td> 83</td><td>19.97349</td><td>3.828809</td><td>15</td><td>18</td><td>19.0</td><td>21.00</td><td>38.0</td></tr>\n",
       "\t<tr><td>8</td><td>103</td><td>14.96311</td><td>2.836284</td><td> 9</td><td>13</td><td>14.0</td><td>16.00</td><td>26.6</td></tr>\n",
       "</tbody>\n",
       "</table>\n"
      ],
      "text/latex": [
       "A tibble: 3 × 9\n",
       "\\begin{tabular}{lllllllll}\n",
       " cylinders & sample\\_size & mean & sd & minimum & lower\\_quartile & median & upper\\_quartile & max\\\\\n",
       " <fct> & <int> & <dbl> & <dbl> & <dbl> & <dbl> & <dbl> & <dbl> & <dbl>\\\\\n",
       "\\hline\n",
       "\t 4 & 199 & 29.28392 & 5.670546 & 18 & 25 & 28.4 & 32.95 & 46.6\\\\\n",
       "\t 6 &  83 & 19.97349 & 3.828809 & 15 & 18 & 19.0 & 21.00 & 38.0\\\\\n",
       "\t 8 & 103 & 14.96311 & 2.836284 &  9 & 13 & 14.0 & 16.00 & 26.6\\\\\n",
       "\\end{tabular}\n"
      ],
      "text/markdown": [
       "\n",
       "A tibble: 3 × 9\n",
       "\n",
       "| cylinders &lt;fct&gt; | sample_size &lt;int&gt; | mean &lt;dbl&gt; | sd &lt;dbl&gt; | minimum &lt;dbl&gt; | lower_quartile &lt;dbl&gt; | median &lt;dbl&gt; | upper_quartile &lt;dbl&gt; | max &lt;dbl&gt; |\n",
       "|---|---|---|---|---|---|---|---|---|\n",
       "| 4 | 199 | 29.28392 | 5.670546 | 18 | 25 | 28.4 | 32.95 | 46.6 |\n",
       "| 6 |  83 | 19.97349 | 3.828809 | 15 | 18 | 19.0 | 21.00 | 38.0 |\n",
       "| 8 | 103 | 14.96311 | 2.836284 |  9 | 13 | 14.0 | 16.00 | 26.6 |\n",
       "\n"
      ],
      "text/plain": [
       "  cylinders sample_size mean     sd       minimum lower_quartile median\n",
       "1 4         199         29.28392 5.670546 18      25             28.4  \n",
       "2 6          83         19.97349 3.828809 15      18             19.0  \n",
       "3 8         103         14.96311 2.836284  9      13             14.0  \n",
       "  upper_quartile max \n",
       "1 32.95          46.6\n",
       "2 21.00          38.0\n",
       "3 16.00          26.6"
      ]
     },
     "metadata": {},
     "output_type": "display_data"
    },
    {
     "data": {
      "image/png": "[encoded data removed]",
      "text/plain": [
       "plot without title"
      ]
     },
     "metadata": {
      "image/png": {
       "height": 420,
       "width": 420
      }
     },
     "output_type": "display_data"
    }
   ],
   "source": [
    "cars_summ_mpg <- cars %>% group_by(cylinders) %>%\n",
    "  summarize(sample_size = n(),\n",
    "    mean = mean(mpg),\n",
    "    sd = sd(mpg),\n",
    "    minimum = min(mpg),\n",
    "    lower_quartile = quantile(mpg, 0.25),\n",
    "    median = median(mpg),\n",
    "    upper_quartile = quantile(mpg, 0.75),\n",
    "    max = max(mpg))\n",
    "cars_summ_mpg\n",
    "\n",
    "cars_plot_1 <- cars %>%\n",
    "    ggplot(aes(x= cylinders, y = mpg)) +\n",
    "    geom_boxplot()\n",
    "cars_plot_1 "
   ]
  },
  {
   "cell_type": "markdown",
   "id": "5a6912c8-d8dd-4ece-9949-d35ecd3d7160",
   "metadata": {},
   "source": [
    "## Horsepower"
   ]
  },
  {
   "cell_type": "code",
   "execution_count": 11,
   "id": "302b1bab-3400-4a3c-8b81-89e2c9b2354c",
   "metadata": {},
   "outputs": [
    {
     "data": {
      "text/html": [
       "<table class=\"dataframe\">\n",
       "<caption>A tibble: 3 × 9</caption>\n",
       "<thead>\n",
       "\t<tr><th scope=col>cylinders</th><th scope=col>sample_size</th><th scope=col>mean</th><th scope=col>sd</th><th scope=col>minimum</th><th scope=col>lower_quartile</th><th scope=col>median</th><th scope=col>upper_quartile</th><th scope=col>max</th></tr>\n",
       "\t<tr><th scope=col>&lt;fct&gt;</th><th scope=col>&lt;int&gt;</th><th scope=col>&lt;dbl&gt;</th><th scope=col>&lt;dbl&gt;</th><th scope=col>&lt;dbl&gt;</th><th scope=col>&lt;dbl&gt;</th><th scope=col>&lt;dbl&gt;</th><th scope=col>&lt;dbl&gt;</th><th scope=col>&lt;dbl&gt;</th></tr>\n",
       "</thead>\n",
       "<tbody>\n",
       "\t<tr><td>4</td><td>199</td><td> 78.28141</td><td>14.52310</td><td>46</td><td> 68.0</td><td> 78</td><td> 88</td><td>115</td></tr>\n",
       "\t<tr><td>6</td><td> 83</td><td>101.50602</td><td>14.31047</td><td>72</td><td> 92.5</td><td>100</td><td>110</td><td>165</td></tr>\n",
       "\t<tr><td>8</td><td>103</td><td>158.30097</td><td>28.45355</td><td>90</td><td>140.0</td><td>150</td><td>175</td><td>230</td></tr>\n",
       "</tbody>\n",
       "</table>\n"
      ],
      "text/latex": [
       "A tibble: 3 × 9\n",
       "\\begin{tabular}{lllllllll}\n",
       " cylinders & sample\\_size & mean & sd & minimum & lower\\_quartile & median & upper\\_quartile & max\\\\\n",
       " <fct> & <int> & <dbl> & <dbl> & <dbl> & <dbl> & <dbl> & <dbl> & <dbl>\\\\\n",
       "\\hline\n",
       "\t 4 & 199 &  78.28141 & 14.52310 & 46 &  68.0 &  78 &  88 & 115\\\\\n",
       "\t 6 &  83 & 101.50602 & 14.31047 & 72 &  92.5 & 100 & 110 & 165\\\\\n",
       "\t 8 & 103 & 158.30097 & 28.45355 & 90 & 140.0 & 150 & 175 & 230\\\\\n",
       "\\end{tabular}\n"
      ],
      "text/markdown": [
       "\n",
       "A tibble: 3 × 9\n",
       "\n",
       "| cylinders &lt;fct&gt; | sample_size &lt;int&gt; | mean &lt;dbl&gt; | sd &lt;dbl&gt; | minimum &lt;dbl&gt; | lower_quartile &lt;dbl&gt; | median &lt;dbl&gt; | upper_quartile &lt;dbl&gt; | max &lt;dbl&gt; |\n",
       "|---|---|---|---|---|---|---|---|---|\n",
       "| 4 | 199 |  78.28141 | 14.52310 | 46 |  68.0 |  78 |  88 | 115 |\n",
       "| 6 |  83 | 101.50602 | 14.31047 | 72 |  92.5 | 100 | 110 | 165 |\n",
       "| 8 | 103 | 158.30097 | 28.45355 | 90 | 140.0 | 150 | 175 | 230 |\n",
       "\n"
      ],
      "text/plain": [
       "  cylinders sample_size mean      sd       minimum lower_quartile median\n",
       "1 4         199          78.28141 14.52310 46       68.0           78   \n",
       "2 6          83         101.50602 14.31047 72       92.5          100   \n",
       "3 8         103         158.30097 28.45355 90      140.0          150   \n",
       "  upper_quartile max\n",
       "1  88            115\n",
       "2 110            165\n",
       "3 175            230"
      ]
     },
     "metadata": {},
     "output_type": "display_data"
    },
    {
     "data": {
      "image/png": "[encoded data removed]",
      "text/plain": [
       "plot without title"
      ]
     },
     "metadata": {
      "image/png": {
       "height": 420,
       "width": 420
      }
     },
     "output_type": "display_data"
    }
   ],
   "source": [
    "cars_summ_hp <- cars %>% group_by(cylinders) %>%\n",
    "  summarize(sample_size = n(),\n",
    "    mean = mean(horsepower),\n",
    "    sd = sd(horsepower),\n",
    "    minimum = min(horsepower),\n",
    "    lower_quartile = quantile(horsepower, 0.25),\n",
    "    median = median(horsepower),\n",
    "    upper_quartile = quantile(horsepower, 0.75),\n",
    "    max = max(horsepower))\n",
    "cars_summ_hp\n",
    "\n",
    "cars_plot_2 <- cars %>%\n",
    "    ggplot(aes(x= cylinders, y = horsepower)) +\n",
    "    geom_boxplot()\n",
    "cars_plot_2"
   ]
  },
  {
   "cell_type": "markdown",
   "id": "955c63c1-c742-45b5-bac7-be15bdb3ec25",
   "metadata": {},
   "source": [
    "## Acceleration"
   ]
  },
  {
   "cell_type": "code",
   "execution_count": 12,
   "id": "28af4135-283d-4fa5-a69d-07160a823ce2",
   "metadata": {},
   "outputs": [
    {
     "data": {
      "text/html": [
       "<table class=\"dataframe\">\n",
       "<caption>A tibble: 3 × 9</caption>\n",
       "<thead>\n",
       "\t<tr><th scope=col>cylinders</th><th scope=col>sample_size</th><th scope=col>mean</th><th scope=col>sd</th><th scope=col>minimum</th><th scope=col>lower_quartile</th><th scope=col>median</th><th scope=col>upper_quartile</th><th scope=col>max</th></tr>\n",
       "\t<tr><th scope=col>&lt;fct&gt;</th><th scope=col>&lt;int&gt;</th><th scope=col>&lt;dbl&gt;</th><th scope=col>&lt;dbl&gt;</th><th scope=col>&lt;dbl&gt;</th><th scope=col>&lt;dbl&gt;</th><th scope=col>&lt;dbl&gt;</th><th scope=col>&lt;dbl&gt;</th><th scope=col>&lt;dbl&gt;</th></tr>\n",
       "</thead>\n",
       "<tbody>\n",
       "\t<tr><td>4</td><td>199</td><td>16.58191</td><td>2.383185</td><td>11.6</td><td>14.80</td><td>16.2</td><td>18.0</td><td>24.8</td></tr>\n",
       "\t<tr><td>6</td><td> 83</td><td>16.25422</td><td>2.031778</td><td>11.3</td><td>15.05</td><td>16.0</td><td>17.6</td><td>21.0</td></tr>\n",
       "\t<tr><td>8</td><td>103</td><td>12.95534</td><td>2.224759</td><td> 8.0</td><td>11.50</td><td>13.0</td><td>14.0</td><td>22.2</td></tr>\n",
       "</tbody>\n",
       "</table>\n"
      ],
      "text/latex": [
       "A tibble: 3 × 9\n",
       "\\begin{tabular}{lllllllll}\n",
       " cylinders & sample\\_size & mean & sd & minimum & lower\\_quartile & median & upper\\_quartile & max\\\\\n",
       " <fct> & <int> & <dbl> & <dbl> & <dbl> & <dbl> & <dbl> & <dbl> & <dbl>\\\\\n",
       "\\hline\n",
       "\t 4 & 199 & 16.58191 & 2.383185 & 11.6 & 14.80 & 16.2 & 18.0 & 24.8\\\\\n",
       "\t 6 &  83 & 16.25422 & 2.031778 & 11.3 & 15.05 & 16.0 & 17.6 & 21.0\\\\\n",
       "\t 8 & 103 & 12.95534 & 2.224759 &  8.0 & 11.50 & 13.0 & 14.0 & 22.2\\\\\n",
       "\\end{tabular}\n"
      ],
      "text/markdown": [
       "\n",
       "A tibble: 3 × 9\n",
       "\n",
       "| cylinders &lt;fct&gt; | sample_size &lt;int&gt; | mean &lt;dbl&gt; | sd &lt;dbl&gt; | minimum &lt;dbl&gt; | lower_quartile &lt;dbl&gt; | median &lt;dbl&gt; | upper_quartile &lt;dbl&gt; | max &lt;dbl&gt; |\n",
       "|---|---|---|---|---|---|---|---|---|\n",
       "| 4 | 199 | 16.58191 | 2.383185 | 11.6 | 14.80 | 16.2 | 18.0 | 24.8 |\n",
       "| 6 |  83 | 16.25422 | 2.031778 | 11.3 | 15.05 | 16.0 | 17.6 | 21.0 |\n",
       "| 8 | 103 | 12.95534 | 2.224759 |  8.0 | 11.50 | 13.0 | 14.0 | 22.2 |\n",
       "\n"
      ],
      "text/plain": [
       "  cylinders sample_size mean     sd       minimum lower_quartile median\n",
       "1 4         199         16.58191 2.383185 11.6    14.80          16.2  \n",
       "2 6          83         16.25422 2.031778 11.3    15.05          16.0  \n",
       "3 8         103         12.95534 2.224759  8.0    11.50          13.0  \n",
       "  upper_quartile max \n",
       "1 18.0           24.8\n",
       "2 17.6           21.0\n",
       "3 14.0           22.2"
      ]
     },
     "metadata": {},
     "output_type": "display_data"
    },
    {
     "data": {
      "image/png": "[encoded data removed]",
      "text/plain": [
       "plot without title"
      ]
     },
     "metadata": {
      "image/png": {
       "height": 420,
       "width": 420
      }
     },
     "output_type": "display_data"
    }
   ],
   "source": [
    "cars_summ_acc <- cars %>% group_by(cylinders) %>%\n",
    "  summarize(sample_size = n(),\n",
    "    mean = mean(acceleration),\n",
    "    sd = sd(acceleration),\n",
    "    minimum = min(acceleration),\n",
    "    lower_quartile = quantile(acceleration, 0.25),\n",
    "    median = median(acceleration),\n",
    "    upper_quartile = quantile(acceleration, 0.75),\n",
    "    max = max(acceleration))\n",
    "cars_summ_acc\n",
    "\n",
    "cars_plot_3 <- cars %>%\n",
    "    ggplot(aes(x= cylinders, y = acceleration)) +\n",
    "    geom_boxplot()\n",
    "cars_plot_3"
   ]
  },
  {
   "cell_type": "code",
   "execution_count": null,
   "id": "3b3ba797-5971-45be-926b-3b0984067fc4",
   "metadata": {},
   "outputs": [],
   "source": []
  }
 ],
 "metadata": {
  "kernelspec": {
   "display_name": "R",
   "language": "R",
   "name": "ir"
  },
  "language_info": {
   "codemirror_mode": "r",
   "file_extension": ".r",
   "mimetype": "text/x-r-source",
   "name": "R",
   "pygments_lexer": "r",
   "version": "4.0.5"
  }
 },
 "nbformat": 4,
 "nbformat_minor": 5
}
