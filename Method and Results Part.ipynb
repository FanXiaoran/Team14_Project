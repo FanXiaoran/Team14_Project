{
 "cells": [
  {
   "cell_type": "markdown",
   "id": "31dbb0d1-ca2c-4f35-a9b6-7218372474ea",
   "metadata": {},
   "source": [
    "**Loading Required Packages and Setting Seed**"
   ]
  },
  {
   "cell_type": "code",
   "execution_count": null,
   "id": "260afa7e-dc7f-4fd5-b75b-08c315c52a11",
   "metadata": {},
   "outputs": [],
   "source": []
  },
  {
   "cell_type": "code",
   "execution_count": 1,
   "id": "19f8ee31-f051-4772-8d38-926f1ebe84ee",
   "metadata": {},
   "outputs": [
    {
     "name": "stderr",
     "output_type": "stream",
     "text": [
      "── \u001b[1mAttaching packages\u001b[22m ─────────────────────────────────────── tidyverse 1.3.0 ──\n",
      "\n",
      "\u001b[32m✔\u001b[39m \u001b[34mggplot2\u001b[39m 3.3.6     \u001b[32m✔\u001b[39m \u001b[34mpurrr  \u001b[39m 0.3.4\n",
      "\u001b[32m✔\u001b[39m \u001b[34mtibble \u001b[39m 3.1.7     \u001b[32m✔\u001b[39m \u001b[34mdplyr  \u001b[39m 1.0.9\n",
      "\u001b[32m✔\u001b[39m \u001b[34mtidyr  \u001b[39m 1.2.0     \u001b[32m✔\u001b[39m \u001b[34mstringr\u001b[39m 1.4.0\n",
      "\u001b[32m✔\u001b[39m \u001b[34mreadr  \u001b[39m 2.1.2     \u001b[32m✔\u001b[39m \u001b[34mforcats\u001b[39m 0.5.1\n",
      "\n",
      "── \u001b[1mConflicts\u001b[22m ────────────────────────────────────────── tidyverse_conflicts() ──\n",
      "\u001b[31m✖\u001b[39m \u001b[34mdplyr\u001b[39m::\u001b[32mfilter()\u001b[39m masks \u001b[34mstats\u001b[39m::filter()\n",
      "\u001b[31m✖\u001b[39m \u001b[34mdplyr\u001b[39m::\u001b[32mlag()\u001b[39m    masks \u001b[34mstats\u001b[39m::lag()\n",
      "\n"
     ]
    }
   ],
   "source": [
    "library(tidyverse)\n",
    "library(infer)\n",
    "library(repr)\n",
    "library(cowplot)\n",
    "library(datateachr)\n",
    "library(digest)\n",
    "library(dplyr)\n",
    "library(broom)\n"
   ]
  },
  {
   "cell_type": "code",
   "execution_count": 2,
   "id": "1ce29541-5788-4129-abe2-4c9932349a74",
   "metadata": {},
   "outputs": [],
   "source": [
    "download.file(\"https://archive.ics.uci.edu/ml/machine-learning-databases/auto-mpg/auto-mpg.data\", \n",
    "              \"auto-mpg.data\")"
   ]
  },
  {
   "cell_type": "code",
   "execution_count": 3,
   "id": "7d3f96f8-9a2d-4685-bf61-2d2527540a0f",
   "metadata": {},
   "outputs": [
    {
     "data": {
      "text/html": [
       "<table class=\"dataframe\">\n",
       "<caption>A data.frame: 6 × 9</caption>\n",
       "<thead>\n",
       "\t<tr><th></th><th scope=col>V1</th><th scope=col>V2</th><th scope=col>V3</th><th scope=col>V4</th><th scope=col>V5</th><th scope=col>V6</th><th scope=col>V7</th><th scope=col>V8</th><th scope=col>V9</th></tr>\n",
       "\t<tr><th></th><th scope=col>&lt;dbl&gt;</th><th scope=col>&lt;int&gt;</th><th scope=col>&lt;dbl&gt;</th><th scope=col>&lt;chr&gt;</th><th scope=col>&lt;dbl&gt;</th><th scope=col>&lt;dbl&gt;</th><th scope=col>&lt;int&gt;</th><th scope=col>&lt;int&gt;</th><th scope=col>&lt;chr&gt;</th></tr>\n",
       "</thead>\n",
       "<tbody>\n",
       "\t<tr><th scope=row>1</th><td>18</td><td>8</td><td>307</td><td>130.0</td><td>3504</td><td>12.0</td><td>70</td><td>1</td><td>chevrolet chevelle malibu</td></tr>\n",
       "\t<tr><th scope=row>2</th><td>15</td><td>8</td><td>350</td><td>165.0</td><td>3693</td><td>11.5</td><td>70</td><td>1</td><td>buick skylark 320        </td></tr>\n",
       "\t<tr><th scope=row>3</th><td>18</td><td>8</td><td>318</td><td>150.0</td><td>3436</td><td>11.0</td><td>70</td><td>1</td><td>plymouth satellite       </td></tr>\n",
       "\t<tr><th scope=row>4</th><td>16</td><td>8</td><td>304</td><td>150.0</td><td>3433</td><td>12.0</td><td>70</td><td>1</td><td>amc rebel sst            </td></tr>\n",
       "\t<tr><th scope=row>5</th><td>17</td><td>8</td><td>302</td><td>140.0</td><td>3449</td><td>10.5</td><td>70</td><td>1</td><td>ford torino              </td></tr>\n",
       "\t<tr><th scope=row>6</th><td>15</td><td>8</td><td>429</td><td>198.0</td><td>4341</td><td>10.0</td><td>70</td><td>1</td><td>ford galaxie 500         </td></tr>\n",
       "</tbody>\n",
       "</table>\n"
      ],
      "text/latex": [
       "A data.frame: 6 × 9\n",
       "\\begin{tabular}{r|lllllllll}\n",
       "  & V1 & V2 & V3 & V4 & V5 & V6 & V7 & V8 & V9\\\\\n",
       "  & <dbl> & <int> & <dbl> & <chr> & <dbl> & <dbl> & <int> & <int> & <chr>\\\\\n",
       "\\hline\n",
       "\t1 & 18 & 8 & 307 & 130.0 & 3504 & 12.0 & 70 & 1 & chevrolet chevelle malibu\\\\\n",
       "\t2 & 15 & 8 & 350 & 165.0 & 3693 & 11.5 & 70 & 1 & buick skylark 320        \\\\\n",
       "\t3 & 18 & 8 & 318 & 150.0 & 3436 & 11.0 & 70 & 1 & plymouth satellite       \\\\\n",
       "\t4 & 16 & 8 & 304 & 150.0 & 3433 & 12.0 & 70 & 1 & amc rebel sst            \\\\\n",
       "\t5 & 17 & 8 & 302 & 140.0 & 3449 & 10.5 & 70 & 1 & ford torino              \\\\\n",
       "\t6 & 15 & 8 & 429 & 198.0 & 4341 & 10.0 & 70 & 1 & ford galaxie 500         \\\\\n",
       "\\end{tabular}\n"
      ],
      "text/markdown": [
       "\n",
       "A data.frame: 6 × 9\n",
       "\n",
       "| <!--/--> | V1 &lt;dbl&gt; | V2 &lt;int&gt; | V3 &lt;dbl&gt; | V4 &lt;chr&gt; | V5 &lt;dbl&gt; | V6 &lt;dbl&gt; | V7 &lt;int&gt; | V8 &lt;int&gt; | V9 &lt;chr&gt; |\n",
       "|---|---|---|---|---|---|---|---|---|---|\n",
       "| 1 | 18 | 8 | 307 | 130.0 | 3504 | 12.0 | 70 | 1 | chevrolet chevelle malibu |\n",
       "| 2 | 15 | 8 | 350 | 165.0 | 3693 | 11.5 | 70 | 1 | buick skylark 320         |\n",
       "| 3 | 18 | 8 | 318 | 150.0 | 3436 | 11.0 | 70 | 1 | plymouth satellite        |\n",
       "| 4 | 16 | 8 | 304 | 150.0 | 3433 | 12.0 | 70 | 1 | amc rebel sst             |\n",
       "| 5 | 17 | 8 | 302 | 140.0 | 3449 | 10.5 | 70 | 1 | ford torino               |\n",
       "| 6 | 15 | 8 | 429 | 198.0 | 4341 | 10.0 | 70 | 1 | ford galaxie 500          |\n",
       "\n"
      ],
      "text/plain": [
       "  V1 V2 V3  V4    V5   V6   V7 V8 V9                       \n",
       "1 18 8  307 130.0 3504 12.0 70 1  chevrolet chevelle malibu\n",
       "2 15 8  350 165.0 3693 11.5 70 1  buick skylark 320        \n",
       "3 18 8  318 150.0 3436 11.0 70 1  plymouth satellite       \n",
       "4 16 8  304 150.0 3433 12.0 70 1  amc rebel sst            \n",
       "5 17 8  302 140.0 3449 10.5 70 1  ford torino              \n",
       "6 15 8  429 198.0 4341 10.0 70 1  ford galaxie 500         "
      ]
     },
     "metadata": {},
     "output_type": "display_data"
    }
   ],
   "source": [
    "cars <- read.table(\"auto-mpg.data\") \n",
    "head(cars)"
   ]
  },
  {
   "cell_type": "markdown",
   "id": "35f2648e-61fe-48ac-841f-fb7c6f73ebda",
   "metadata": {},
   "source": [
    "*Table 1:*"
   ]
  },
  {
   "cell_type": "code",
   "execution_count": 4,
   "id": "9037da21-90b3-43ab-839c-bbd4d189e519",
   "metadata": {},
   "outputs": [
    {
     "name": "stderr",
     "output_type": "stream",
     "text": [
      "Warning message in mask$eval_all_mutate(quo):\n",
      "“NAs introduced by coercion”\n"
     ]
    },
    {
     "data": {
      "text/html": [
       "<table class=\"dataframe\">\n",
       "<caption>A data.frame: 6 × 9</caption>\n",
       "<thead>\n",
       "\t<tr><th></th><th scope=col>mpg</th><th scope=col>cylinders</th><th scope=col>dispacement</th><th scope=col>horsepower</th><th scope=col>weight</th><th scope=col>acceleration</th><th scope=col>model</th><th scope=col>origin</th><th scope=col>name</th></tr>\n",
       "\t<tr><th></th><th scope=col>&lt;dbl&gt;</th><th scope=col>&lt;fct&gt;</th><th scope=col>&lt;dbl&gt;</th><th scope=col>&lt;dbl&gt;</th><th scope=col>&lt;dbl&gt;</th><th scope=col>&lt;dbl&gt;</th><th scope=col>&lt;int&gt;</th><th scope=col>&lt;int&gt;</th><th scope=col>&lt;chr&gt;</th></tr>\n",
       "</thead>\n",
       "<tbody>\n",
       "\t<tr><th scope=row>1</th><td>18</td><td>8</td><td>307</td><td>130</td><td>3504</td><td>12.0</td><td>70</td><td>1</td><td>chevrolet chevelle malibu</td></tr>\n",
       "\t<tr><th scope=row>2</th><td>15</td><td>8</td><td>350</td><td>165</td><td>3693</td><td>11.5</td><td>70</td><td>1</td><td>buick skylark 320        </td></tr>\n",
       "\t<tr><th scope=row>3</th><td>18</td><td>8</td><td>318</td><td>150</td><td>3436</td><td>11.0</td><td>70</td><td>1</td><td>plymouth satellite       </td></tr>\n",
       "\t<tr><th scope=row>4</th><td>16</td><td>8</td><td>304</td><td>150</td><td>3433</td><td>12.0</td><td>70</td><td>1</td><td>amc rebel sst            </td></tr>\n",
       "\t<tr><th scope=row>5</th><td>17</td><td>8</td><td>302</td><td>140</td><td>3449</td><td>10.5</td><td>70</td><td>1</td><td>ford torino              </td></tr>\n",
       "\t<tr><th scope=row>6</th><td>15</td><td>8</td><td>429</td><td>198</td><td>4341</td><td>10.0</td><td>70</td><td>1</td><td>ford galaxie 500         </td></tr>\n",
       "</tbody>\n",
       "</table>\n"
      ],
      "text/latex": [
       "A data.frame: 6 × 9\n",
       "\\begin{tabular}{r|lllllllll}\n",
       "  & mpg & cylinders & dispacement & horsepower & weight & acceleration & model & origin & name\\\\\n",
       "  & <dbl> & <fct> & <dbl> & <dbl> & <dbl> & <dbl> & <int> & <int> & <chr>\\\\\n",
       "\\hline\n",
       "\t1 & 18 & 8 & 307 & 130 & 3504 & 12.0 & 70 & 1 & chevrolet chevelle malibu\\\\\n",
       "\t2 & 15 & 8 & 350 & 165 & 3693 & 11.5 & 70 & 1 & buick skylark 320        \\\\\n",
       "\t3 & 18 & 8 & 318 & 150 & 3436 & 11.0 & 70 & 1 & plymouth satellite       \\\\\n",
       "\t4 & 16 & 8 & 304 & 150 & 3433 & 12.0 & 70 & 1 & amc rebel sst            \\\\\n",
       "\t5 & 17 & 8 & 302 & 140 & 3449 & 10.5 & 70 & 1 & ford torino              \\\\\n",
       "\t6 & 15 & 8 & 429 & 198 & 4341 & 10.0 & 70 & 1 & ford galaxie 500         \\\\\n",
       "\\end{tabular}\n"
      ],
      "text/markdown": [
       "\n",
       "A data.frame: 6 × 9\n",
       "\n",
       "| <!--/--> | mpg &lt;dbl&gt; | cylinders &lt;fct&gt; | dispacement &lt;dbl&gt; | horsepower &lt;dbl&gt; | weight &lt;dbl&gt; | acceleration &lt;dbl&gt; | model &lt;int&gt; | origin &lt;int&gt; | name &lt;chr&gt; |\n",
       "|---|---|---|---|---|---|---|---|---|---|\n",
       "| 1 | 18 | 8 | 307 | 130 | 3504 | 12.0 | 70 | 1 | chevrolet chevelle malibu |\n",
       "| 2 | 15 | 8 | 350 | 165 | 3693 | 11.5 | 70 | 1 | buick skylark 320         |\n",
       "| 3 | 18 | 8 | 318 | 150 | 3436 | 11.0 | 70 | 1 | plymouth satellite        |\n",
       "| 4 | 16 | 8 | 304 | 150 | 3433 | 12.0 | 70 | 1 | amc rebel sst             |\n",
       "| 5 | 17 | 8 | 302 | 140 | 3449 | 10.5 | 70 | 1 | ford torino               |\n",
       "| 6 | 15 | 8 | 429 | 198 | 4341 | 10.0 | 70 | 1 | ford galaxie 500          |\n",
       "\n"
      ],
      "text/plain": [
       "  mpg cylinders dispacement horsepower weight acceleration model origin\n",
       "1 18  8         307         130        3504   12.0         70    1     \n",
       "2 15  8         350         165        3693   11.5         70    1     \n",
       "3 18  8         318         150        3436   11.0         70    1     \n",
       "4 16  8         304         150        3433   12.0         70    1     \n",
       "5 17  8         302         140        3449   10.5         70    1     \n",
       "6 15  8         429         198        4341   10.0         70    1     \n",
       "  name                     \n",
       "1 chevrolet chevelle malibu\n",
       "2 buick skylark 320        \n",
       "3 plymouth satellite       \n",
       "4 amc rebel sst            \n",
       "5 ford torino              \n",
       "6 ford galaxie 500         "
      ]
     },
     "metadata": {},
     "output_type": "display_data"
    }
   ],
   "source": [
    "cars <- read.table(\"auto-mpg.data\")%>%\n",
    "    rename(mpg = V1,\n",
    "           cylinders = V2,\n",
    "           dispacement = V3,\n",
    "           horsepower = V4,\n",
    "           weight = V5,\n",
    "           acceleration = V6,\n",
    "           model = V7,\n",
    "           origin = V8,\n",
    "           name = V9) %>%\n",
    "    mutate(horsepower = as.numeric(horsepower),\n",
    "           cylinders = as.factor(cylinders)) \n",
    "head(cars)"
   ]
  },
  {
   "cell_type": "markdown",
   "id": "6ec67578-d9b7-464b-9e67-ccb8bd9b29cc",
   "metadata": {},
   "source": [
    "*Table 2:*"
   ]
  },
  {
   "cell_type": "code",
   "execution_count": 5,
   "id": "5be89975-88aa-49db-b868-93b4811be666",
   "metadata": {},
   "outputs": [
    {
     "data": {
      "text/html": [
       "<table class=\"dataframe\">\n",
       "<caption>A data.frame: 6 × 2</caption>\n",
       "<thead>\n",
       "\t<tr><th></th><th scope=col>cylinders</th><th scope=col>horsepower</th></tr>\n",
       "\t<tr><th></th><th scope=col>&lt;fct&gt;</th><th scope=col>&lt;dbl&gt;</th></tr>\n",
       "</thead>\n",
       "<tbody>\n",
       "\t<tr><th scope=row>1</th><td>4</td><td>95</td></tr>\n",
       "\t<tr><th scope=row>2</th><td>6</td><td>95</td></tr>\n",
       "\t<tr><th scope=row>3</th><td>6</td><td>97</td></tr>\n",
       "\t<tr><th scope=row>4</th><td>6</td><td>85</td></tr>\n",
       "\t<tr><th scope=row>5</th><td>4</td><td>88</td></tr>\n",
       "\t<tr><th scope=row>6</th><td>4</td><td>46</td></tr>\n",
       "</tbody>\n",
       "</table>\n"
      ],
      "text/latex": [
       "A data.frame: 6 × 2\n",
       "\\begin{tabular}{r|ll}\n",
       "  & cylinders & horsepower\\\\\n",
       "  & <fct> & <dbl>\\\\\n",
       "\\hline\n",
       "\t1 & 4 & 95\\\\\n",
       "\t2 & 6 & 95\\\\\n",
       "\t3 & 6 & 97\\\\\n",
       "\t4 & 6 & 85\\\\\n",
       "\t5 & 4 & 88\\\\\n",
       "\t6 & 4 & 46\\\\\n",
       "\\end{tabular}\n"
      ],
      "text/markdown": [
       "\n",
       "A data.frame: 6 × 2\n",
       "\n",
       "| <!--/--> | cylinders &lt;fct&gt; | horsepower &lt;dbl&gt; |\n",
       "|---|---|---|\n",
       "| 1 | 4 | 95 |\n",
       "| 2 | 6 | 95 |\n",
       "| 3 | 6 | 97 |\n",
       "| 4 | 6 | 85 |\n",
       "| 5 | 4 | 88 |\n",
       "| 6 | 4 | 46 |\n",
       "\n"
      ],
      "text/plain": [
       "  cylinders horsepower\n",
       "1 4         95        \n",
       "2 6         95        \n",
       "3 6         97        \n",
       "4 6         85        \n",
       "5 4         88        \n",
       "6 4         46        "
      ]
     },
     "metadata": {},
     "output_type": "display_data"
    }
   ],
   "source": [
    "cars_variables <- cars %>% \n",
    "    filter(!is.na(horsepower),\n",
    "           cylinders %in% c(6,4))%>%\n",
    "    select(cylinders, horsepower)\n",
    "\n",
    "head(cars_variables)"
   ]
  },
  {
   "cell_type": "markdown",
   "id": "ce0551d3-eddd-4c21-938c-33e024355032",
   "metadata": {},
   "source": [
    "*Table 3:*"
   ]
  },
  {
   "cell_type": "code",
   "execution_count": 6,
   "id": "2a7727f4-9221-41f3-b9c9-1bf3bef56d48",
   "metadata": {},
   "outputs": [
    {
     "data": {
      "text/html": [
       "<table class=\"dataframe\">\n",
       "<caption>A tibble: 2 × 9</caption>\n",
       "<thead>\n",
       "\t<tr><th scope=col>cylinders</th><th scope=col>size</th><th scope=col>mean</th><th scope=col>sd</th><th scope=col>minimum</th><th scope=col>lower_quartile</th><th scope=col>median</th><th scope=col>upper_quartile</th><th scope=col>max</th></tr>\n",
       "\t<tr><th scope=col>&lt;fct&gt;</th><th scope=col>&lt;int&gt;</th><th scope=col>&lt;dbl&gt;</th><th scope=col>&lt;dbl&gt;</th><th scope=col>&lt;dbl&gt;</th><th scope=col>&lt;dbl&gt;</th><th scope=col>&lt;dbl&gt;</th><th scope=col>&lt;dbl&gt;</th><th scope=col>&lt;dbl&gt;</th></tr>\n",
       "</thead>\n",
       "<tbody>\n",
       "\t<tr><td>4</td><td>199</td><td> 78.28141</td><td>14.52310</td><td>46</td><td>68.0</td><td> 78</td><td> 88</td><td>115</td></tr>\n",
       "\t<tr><td>6</td><td> 83</td><td>101.50602</td><td>14.31047</td><td>72</td><td>92.5</td><td>100</td><td>110</td><td>165</td></tr>\n",
       "</tbody>\n",
       "</table>\n"
      ],
      "text/latex": [
       "A tibble: 2 × 9\n",
       "\\begin{tabular}{lllllllll}\n",
       " cylinders & size & mean & sd & minimum & lower\\_quartile & median & upper\\_quartile & max\\\\\n",
       " <fct> & <int> & <dbl> & <dbl> & <dbl> & <dbl> & <dbl> & <dbl> & <dbl>\\\\\n",
       "\\hline\n",
       "\t 4 & 199 &  78.28141 & 14.52310 & 46 & 68.0 &  78 &  88 & 115\\\\\n",
       "\t 6 &  83 & 101.50602 & 14.31047 & 72 & 92.5 & 100 & 110 & 165\\\\\n",
       "\\end{tabular}\n"
      ],
      "text/markdown": [
       "\n",
       "A tibble: 2 × 9\n",
       "\n",
       "| cylinders &lt;fct&gt; | size &lt;int&gt; | mean &lt;dbl&gt; | sd &lt;dbl&gt; | minimum &lt;dbl&gt; | lower_quartile &lt;dbl&gt; | median &lt;dbl&gt; | upper_quartile &lt;dbl&gt; | max &lt;dbl&gt; |\n",
       "|---|---|---|---|---|---|---|---|---|\n",
       "| 4 | 199 |  78.28141 | 14.52310 | 46 | 68.0 |  78 |  88 | 115 |\n",
       "| 6 |  83 | 101.50602 | 14.31047 | 72 | 92.5 | 100 | 110 | 165 |\n",
       "\n"
      ],
      "text/plain": [
       "  cylinders size mean      sd       minimum lower_quartile median\n",
       "1 4         199   78.28141 14.52310 46      68.0            78   \n",
       "2 6          83  101.50602 14.31047 72      92.5           100   \n",
       "  upper_quartile max\n",
       "1  88            115\n",
       "2 110            165"
      ]
     },
     "metadata": {},
     "output_type": "display_data"
    }
   ],
   "source": [
    "cars_summ_hp <- cars_variables %>%\n",
    "    group_by(cylinders) %>%\n",
    "    summarize(size = n(),\n",
    "              mean = mean(horsepower),\n",
    "              sd = sd(horsepower),\n",
    "              minimum = min(horsepower),\n",
    "              lower_quartile = quantile(horsepower, 0.25),\n",
    "              median = median(horsepower),\n",
    "              upper_quartile = quantile(horsepower, 0.75),\n",
    "              max = max(horsepower))\n",
    "\n",
    "cars_summ_hp"
   ]
  },
  {
   "cell_type": "markdown",
   "id": "2cef2d8b-5027-4b44-8ca6-fc11787440dc",
   "metadata": {},
   "source": [
    "*Table 4:*"
   ]
  },
  {
   "cell_type": "code",
   "execution_count": 7,
   "id": "539afd63-8cdf-408e-87c9-e8da339d2dea",
   "metadata": {},
   "outputs": [
    {
     "data": {
      "image/png": "[encoded data removed]",
      "text/plain": [
       "plot without title"
      ]
     },
     "metadata": {
      "image/png": {
       "height": 480,
       "width": 480
      }
     },
     "output_type": "display_data"
    }
   ],
   "source": [
    "options(repr.plot.width = 8, repr.plot.height = 8)\n",
    "\n",
    "cars_boxplot <- cars_variables %>%\n",
    "    ggplot(aes(x= cylinders, y = horsepower)) +\n",
    "    geom_boxplot()+\n",
    "    ggtitle(\"Boxplot of Horsepower for 4- and 6-cylinder cars\") +\n",
    "    theme(text = element_text(size = 18))\n",
    "\n",
    "cars_boxplot"
   ]
  },
  {
   "cell_type": "markdown",
   "id": "6e536587-c723-4a27-9b86-4262962618bb",
   "metadata": {},
   "source": [
    "*Graph 1: Boxplot of horsepower for 4 and 6 cylinder cars*"
   ]
  },
  {
   "cell_type": "code",
   "execution_count": 8,
   "id": "842d739e-d20c-4853-a043-62c23ba310d4",
   "metadata": {},
   "outputs": [
    {
     "data": {
      "image/png": "[encoded data removed]",
      "text/plain": [
       "plot without title"
      ]
     },
     "metadata": {
      "image/png": {
       "height": 480,
       "width": 600
      }
     },
     "output_type": "display_data"
    }
   ],
   "source": [
    "set.seed(1234)\n",
    "options(repr.plot.width = 10, repr.plot.height = 8)\n",
    "\n",
    "cars_bootstrapped1 <- cars_variables %>%\n",
    "    filter(cylinders == \"4\") %>%\n",
    "    specify(response = horsepower) %>%\n",
    "    generate(type = \"bootstrap\", reps = 199) %>%\n",
    "    calculate(stat = \"mean\")\n",
    "\n",
    "cars_ci1 <- cars_bootstrapped1 %>%\n",
    "    get_confidence_interval(level = 0.90, type = \"percentile\")\n",
    "\n",
    "cars_4cylinders_plot <- cars_bootstrapped1 %>%\n",
    "    ggplot(aes(x = stat)) +\n",
    "    geom_histogram(binwidth = 1, color = \"white\") +\n",
    "    geom_vline(xintercept = cars_summ_hp[[1,3]], color = \"red\", size = 2) +\n",
    "    xlab(\"Mean of Horsepower\") +\n",
    "    ggtitle(\"Bootstrap Distribution of 4 Cylinders Cars' Mean Horsepower\") +\n",
    "    theme(text = element_text(size = 18)) +\n",
    "    shade_confidence_interval(endpoints = cars_ci1)\n",
    "\n",
    "cars_4cylinders_plot"
   ]
  },
  {
   "cell_type": "markdown",
   "id": "85046b55-1b98-4d6c-be06-1e5baf4fc2cb",
   "metadata": {},
   "source": [
    "*Graph 2: Bootstrap distribution of 4 cylinders cars mean horsepower*"
   ]
  },
  {
   "cell_type": "code",
   "execution_count": 9,
   "id": "a2fe9846-d486-4335-b2ae-36417f8227cf",
   "metadata": {},
   "outputs": [
    {
     "data": {
      "image/png": "[encoded data removed]",
      "text/plain": [
       "plot without title"
      ]
     },
     "metadata": {
      "image/png": {
       "height": 480,
       "width": 600
      }
     },
     "output_type": "display_data"
    }
   ],
   "source": [
    "set.seed(1234)\n",
    "options(repr.plot.width = 10, repr.plot.height = 8)\n",
    "\n",
    "cars_bootstrapped2 <- cars_variables %>%\n",
    "    filter(cylinders == \"6\") %>%\n",
    "    specify(response = horsepower) %>%\n",
    "    generate(type = \"bootstrap\", reps = 83) %>%\n",
    "    calculate(stat = \"mean\")\n",
    "\n",
    "cars_ci2 <- cars_bootstrapped2 %>%\n",
    "    get_confidence_interval(level = 0.90, type = \"percentile\")\n",
    "\n",
    "cars_6cylinders_plot <- cars_bootstrapped2 %>%\n",
    "    ggplot(aes(x = stat)) +\n",
    "    geom_histogram(binwidth = 1, color = \"white\") +\n",
    "    geom_vline(xintercept = cars_summ_hp[[2,3]], color = \"red\", size = 2) +\n",
    "    xlab(\"Mean of Horsepower\") +\n",
    "    ggtitle(\"Bootstrap Distribution of 6 Cylinders Cars' Mean Horsepower\") +\n",
    "    theme(text = element_text(size = 18)) +\n",
    "    shade_confidence_interval(endpoints = cars_ci2)\n",
    "\n",
    "cars_6cylinders_plot"
   ]
  },
  {
   "cell_type": "markdown",
   "id": "fcc00ca8-b792-4057-90e5-99b5dbff6033",
   "metadata": {},
   "source": [
    "*Graph3: Bootstrap distribution of 6 cylinders cars mean horsepower*"
   ]
  },
  {
   "cell_type": "code",
   "execution_count": 10,
   "id": "d1f900d3-3c03-48be-bb37-5a369c947d21",
   "metadata": {},
   "outputs": [
    {
     "data": {
      "text/html": [
       "<table class=\"dataframe\">\n",
       "<caption>A tibble: 1 × 2</caption>\n",
       "<thead>\n",
       "\t<tr><th scope=col>lower_ci</th><th scope=col>upper_ci</th></tr>\n",
       "\t<tr><th scope=col>&lt;dbl&gt;</th><th scope=col>&lt;dbl&gt;</th></tr>\n",
       "</thead>\n",
       "<tbody>\n",
       "\t<tr><td>76.74724</td><td>79.90804</td></tr>\n",
       "</tbody>\n",
       "</table>\n"
      ],
      "text/latex": [
       "A tibble: 1 × 2\n",
       "\\begin{tabular}{ll}\n",
       " lower\\_ci & upper\\_ci\\\\\n",
       " <dbl> & <dbl>\\\\\n",
       "\\hline\n",
       "\t 76.74724 & 79.90804\\\\\n",
       "\\end{tabular}\n"
      ],
      "text/markdown": [
       "\n",
       "A tibble: 1 × 2\n",
       "\n",
       "| lower_ci &lt;dbl&gt; | upper_ci &lt;dbl&gt; |\n",
       "|---|---|\n",
       "| 76.74724 | 79.90804 |\n",
       "\n"
      ],
      "text/plain": [
       "  lower_ci upper_ci\n",
       "1 76.74724 79.90804"
      ]
     },
     "metadata": {},
     "output_type": "display_data"
    }
   ],
   "source": [
    "cars_ci1"
   ]
  },
  {
   "cell_type": "markdown",
   "id": "8a1e2ec5-6b0e-4b8e-9826-30c9e8b6acd7",
   "metadata": {},
   "source": [
    "*Table 5: 90% Confidence interval of 4 Cylinders Cars' Mean Horsepower*"
   ]
  },
  {
   "cell_type": "code",
   "execution_count": 11,
   "id": "efd871da-2a66-4695-8106-abe92df2e9fb",
   "metadata": {},
   "outputs": [
    {
     "data": {
      "text/html": [
       "<table class=\"dataframe\">\n",
       "<caption>A tibble: 1 × 2</caption>\n",
       "<thead>\n",
       "\t<tr><th scope=col>lower_ci</th><th scope=col>upper_ci</th></tr>\n",
       "\t<tr><th scope=col>&lt;dbl&gt;</th><th scope=col>&lt;dbl&gt;</th></tr>\n",
       "</thead>\n",
       "<tbody>\n",
       "\t<tr><td>99.64217</td><td>104.0783</td></tr>\n",
       "</tbody>\n",
       "</table>\n"
      ],
      "text/latex": [
       "A tibble: 1 × 2\n",
       "\\begin{tabular}{ll}\n",
       " lower\\_ci & upper\\_ci\\\\\n",
       " <dbl> & <dbl>\\\\\n",
       "\\hline\n",
       "\t 99.64217 & 104.0783\\\\\n",
       "\\end{tabular}\n"
      ],
      "text/markdown": [
       "\n",
       "A tibble: 1 × 2\n",
       "\n",
       "| lower_ci &lt;dbl&gt; | upper_ci &lt;dbl&gt; |\n",
       "|---|---|\n",
       "| 99.64217 | 104.0783 |\n",
       "\n"
      ],
      "text/plain": [
       "  lower_ci upper_ci\n",
       "1 99.64217 104.0783"
      ]
     },
     "metadata": {},
     "output_type": "display_data"
    }
   ],
   "source": [
    "cars_ci2"
   ]
  },
  {
   "cell_type": "markdown",
   "id": "b2860994-56ae-4151-bc46-1a0de393cd38",
   "metadata": {},
   "source": [
    "*Table 6: 90% Confidence interval of 6 Cylinders Cars' Mean Horsepower*"
   ]
  },
  {
   "cell_type": "markdown",
   "id": "41182d2d-56a4-4ee2-baad-3a6bee8535f5",
   "metadata": {},
   "source": [
    "## Hypothesis Testing ##\n",
    "**Comparing the Means:** First, we need to indicate the two groups (two populations) are independent."
   ]
  },
  {
   "cell_type": "markdown",
   "id": "94116522-3ccc-4b01-b62d-89c828311cc5",
   "metadata": {},
   "source": [
    "**Testing :** Two-Sample T-Test\n",
    "\n",
    "**Test Statistic :** T Score"
   ]
  },
  {
   "cell_type": "markdown",
   "id": "3b82aa23-5faa-45c6-a8aa-90e47708eec9",
   "metadata": {},
   "source": [
    "**1. Boxplot**"
   ]
  },
  {
   "cell_type": "code",
   "execution_count": 12,
   "id": "9a2d01ae-8a6b-4e1b-84c9-79ce761ef820",
   "metadata": {},
   "outputs": [
    {
     "data": {
      "image/png": "[encoded data removed]",
      "text/plain": [
       "plot without title"
      ]
     },
     "metadata": {
      "image/png": {
       "height": 480,
       "width": 600
      }
     },
     "output_type": "display_data"
    }
   ],
   "source": [
    "cars_boxplot"
   ]
  },
  {
   "cell_type": "markdown",
   "id": "8d8c85a4-a763-4150-9ab1-4e8732396481",
   "metadata": {},
   "source": [
    "*Graph 1: Boxplot of horsepower for 4 and 6 cylinder cars*"
   ]
  },
  {
   "cell_type": "markdown",
   "id": "0563d37f-8a74-421f-a514-594d0ce87097",
   "metadata": {},
   "source": [
    "The boxplot shows that the 6 cylinder cars' horsepower may be higher than 4 cylinder cars."
   ]
  },
  {
   "cell_type": "markdown",
   "id": "ca65fa90-5697-4193-b755-a5e56e2d7a53",
   "metadata": {},
   "source": [
    "x_bar2 : mean horsepower of cars with 4 cylinders\n",
    "\n",
    "x_bar1 : mean horsepower of cars with 6 cylinders\n",
    "\n",
    "sd2 : standard deviation of cars with 4 cylinders\n",
    "\n",
    "sd1 : standard deviation of cars with 6 cylinders\n",
    "\n",
    "n2 : size of cars with 4 cylinders\n",
    "\n",
    "n1 : size of cars with 6 cylinders"
   ]
  },
  {
   "cell_type": "markdown",
   "id": "4c5f2920-c840-495f-abac-9645b124f19a",
   "metadata": {},
   "source": [
    "T = (x_bar2 - x_bar1)/sqrt(sd2^2/n2+sd1/n1)"
   ]
  },
  {
   "cell_type": "markdown",
   "id": "cd2926f9-cd57-4327-a8a5-749eab1a81c7",
   "metadata": {},
   "source": [
    "**2. Summary Table**"
   ]
  },
  {
   "cell_type": "code",
   "execution_count": 13,
   "id": "282692e1-13f7-4a78-9f37-2936d2795d0c",
   "metadata": {},
   "outputs": [
    {
     "data": {
      "text/html": [
       "<table class=\"dataframe\">\n",
       "<caption>A tibble: 2 × 9</caption>\n",
       "<thead>\n",
       "\t<tr><th scope=col>cylinders</th><th scope=col>size</th><th scope=col>mean</th><th scope=col>sd</th><th scope=col>minimum</th><th scope=col>lower_quartile</th><th scope=col>median</th><th scope=col>upper_quartile</th><th scope=col>max</th></tr>\n",
       "\t<tr><th scope=col>&lt;fct&gt;</th><th scope=col>&lt;int&gt;</th><th scope=col>&lt;dbl&gt;</th><th scope=col>&lt;dbl&gt;</th><th scope=col>&lt;dbl&gt;</th><th scope=col>&lt;dbl&gt;</th><th scope=col>&lt;dbl&gt;</th><th scope=col>&lt;dbl&gt;</th><th scope=col>&lt;dbl&gt;</th></tr>\n",
       "</thead>\n",
       "<tbody>\n",
       "\t<tr><td>4</td><td>199</td><td> 78.28141</td><td>14.52310</td><td>46</td><td>68.0</td><td> 78</td><td> 88</td><td>115</td></tr>\n",
       "\t<tr><td>6</td><td> 83</td><td>101.50602</td><td>14.31047</td><td>72</td><td>92.5</td><td>100</td><td>110</td><td>165</td></tr>\n",
       "</tbody>\n",
       "</table>\n"
      ],
      "text/latex": [
       "A tibble: 2 × 9\n",
       "\\begin{tabular}{lllllllll}\n",
       " cylinders & size & mean & sd & minimum & lower\\_quartile & median & upper\\_quartile & max\\\\\n",
       " <fct> & <int> & <dbl> & <dbl> & <dbl> & <dbl> & <dbl> & <dbl> & <dbl>\\\\\n",
       "\\hline\n",
       "\t 4 & 199 &  78.28141 & 14.52310 & 46 & 68.0 &  78 &  88 & 115\\\\\n",
       "\t 6 &  83 & 101.50602 & 14.31047 & 72 & 92.5 & 100 & 110 & 165\\\\\n",
       "\\end{tabular}\n"
      ],
      "text/markdown": [
       "\n",
       "A tibble: 2 × 9\n",
       "\n",
       "| cylinders &lt;fct&gt; | size &lt;int&gt; | mean &lt;dbl&gt; | sd &lt;dbl&gt; | minimum &lt;dbl&gt; | lower_quartile &lt;dbl&gt; | median &lt;dbl&gt; | upper_quartile &lt;dbl&gt; | max &lt;dbl&gt; |\n",
       "|---|---|---|---|---|---|---|---|---|\n",
       "| 4 | 199 |  78.28141 | 14.52310 | 46 | 68.0 |  78 |  88 | 115 |\n",
       "| 6 |  83 | 101.50602 | 14.31047 | 72 | 92.5 | 100 | 110 | 165 |\n",
       "\n"
      ],
      "text/plain": [
       "  cylinders size mean      sd       minimum lower_quartile median\n",
       "1 4         199   78.28141 14.52310 46      68.0            78   \n",
       "2 6          83  101.50602 14.31047 72      92.5           100   \n",
       "  upper_quartile max\n",
       "1  88            115\n",
       "2 110            165"
      ]
     },
     "metadata": {},
     "output_type": "display_data"
    }
   ],
   "source": [
    "cars_summ_hp"
   ]
  },
  {
   "cell_type": "markdown",
   "id": "e777d4b9-8a58-47d4-9016-1fb1fc5a41ce",
   "metadata": {},
   "source": [
    "*Table 4: Table of Sample Size, Sample Means, Sample Standard deviations, and Quartiles* "
   ]
  },
  {
   "cell_type": "markdown",
   "id": "f28c8211-0ed9-42cf-b66f-e9d63ba5044e",
   "metadata": {},
   "source": [
    "**3. Calculate The Test Statistic**"
   ]
  },
  {
   "cell_type": "code",
   "execution_count": 18,
   "id": "46deca83-3717-41d3-ad5c-da05a0cb8c92",
   "metadata": {},
   "outputs": [
    {
     "data": {
      "text/html": [
       "12.3660409562759"
      ],
      "text/latex": [
       "12.3660409562759"
      ],
      "text/markdown": [
       "12.3660409562759"
      ],
      "text/plain": [
       "[1] 12.36604"
      ]
     },
     "metadata": {},
     "output_type": "display_data"
    }
   ],
   "source": [
    "x_bar1 <- cars_summ_hp$mean[2]\n",
    "x_bar2 <- cars_summ_hp$mean[1]\n",
    "n1 <- cars_summ_hp$size[2]\n",
    "n2 <- cars_summ_hp$size[1]\n",
    "sd1 <- cars_summ_hp$sd[2]\n",
    "sd2 <- cars_summ_hp$sd[1]\n",
    "test_statistic <- (x_bar1 - x_bar2)/sqrt(sd1^2/n1+sd2^2/n2)\n",
    "\n",
    "test_statistic"
   ]
  },
  {
   "cell_type": "markdown",
   "id": "041a4c62-a550-4057-b642-7e4de57833ff",
   "metadata": {},
   "source": [
    "**4.Degree of Freedom**"
   ]
  },
  {
   "cell_type": "code",
   "execution_count": 19,
   "id": "7b0d2b4f-33b3-483c-aff1-fe3c7f57498c",
   "metadata": {},
   "outputs": [
    {
     "data": {
      "text/html": [
       "155.683680500782"
      ],
      "text/latex": [
       "155.683680500782"
      ],
      "text/markdown": [
       "155.683680500782"
      ],
      "text/plain": [
       "[1] 155.6837"
      ]
     },
     "metadata": {},
     "output_type": "display_data"
    }
   ],
   "source": [
    "df <- (sd1^2/n1 + sd2^2/n2)^2/(sd1^4/(n1^2*(n1-1)) + sd2^4/(n2^2*(n2-1)))\n",
    "\n",
    "df"
   ]
  },
  {
   "cell_type": "markdown",
   "id": "3c32c1b0-5e03-495c-a070-c2e5406d5b01",
   "metadata": {},
   "source": [
    "**5. Calculate the P-value**"
   ]
  },
  {
   "cell_type": "markdown",
   "id": "f99e3e0f-da5d-40ca-bce9-4e85f4398838",
   "metadata": {},
   "source": [
    "Alternative Hypothesis:\n",
    "\n",
    "6-cylinder engines have a greater horsepower than 4-cylinder engines (μ6-cyl − μ4-cyl > 0)"
   ]
  },
  {
   "cell_type": "code",
   "execution_count": 20,
   "id": "e73ace90-3888-41fd-b7fd-7c03eb01933a",
   "metadata": {},
   "outputs": [
    {
     "data": {
      "text/html": [
       "3.33108747457776e-25"
      ],
      "text/latex": [
       "3.33108747457776e-25"
      ],
      "text/markdown": [
       "3.33108747457776e-25"
      ],
      "text/plain": [
       "[1] 3.331087e-25"
      ]
     },
     "metadata": {},
     "output_type": "display_data"
    }
   ],
   "source": [
    "pt(test_statistic, df, lower.tail = FALSE)"
   ]
  },
  {
   "cell_type": "markdown",
   "id": "75f15a8e-9e31-4cfd-a714-cf549a823a39",
   "metadata": {},
   "source": [
    "**P-value is too small, we should reject H0 at any significance level.**"
   ]
  },
  {
   "cell_type": "markdown",
   "id": "e42d5d02-2a5d-4d58-a84a-3461a8c95b8b",
   "metadata": {},
   "source": [
    "**6.Use t.test function**"
   ]
  },
  {
   "cell_type": "code",
   "execution_count": 21,
   "id": "43d4c82a-4b72-4472-8f0b-54ed91e46628",
   "metadata": {},
   "outputs": [
    {
     "data": {
      "text/html": [
       "<table class=\"dataframe\">\n",
       "<caption>A tibble: 1 × 10</caption>\n",
       "<thead>\n",
       "\t<tr><th scope=col>estimate</th><th scope=col>estimate1</th><th scope=col>estimate2</th><th scope=col>statistic</th><th scope=col>p.value</th><th scope=col>parameter</th><th scope=col>conf.low</th><th scope=col>conf.high</th><th scope=col>method</th><th scope=col>alternative</th></tr>\n",
       "\t<tr><th scope=col>&lt;dbl&gt;</th><th scope=col>&lt;dbl&gt;</th><th scope=col>&lt;dbl&gt;</th><th scope=col>&lt;dbl&gt;</th><th scope=col>&lt;dbl&gt;</th><th scope=col>&lt;dbl&gt;</th><th scope=col>&lt;dbl&gt;</th><th scope=col>&lt;dbl&gt;</th><th scope=col>&lt;chr&gt;</th><th scope=col>&lt;chr&gt;</th></tr>\n",
       "</thead>\n",
       "<tbody>\n",
       "\t<tr><td>23.22462</td><td>101.506</td><td>78.28141</td><td>12.36604</td><td>3.331087e-25</td><td>155.6837</td><td>20.11693</td><td>Inf</td><td>Welch Two Sample t-test</td><td>greater</td></tr>\n",
       "</tbody>\n",
       "</table>\n"
      ],
      "text/latex": [
       "A tibble: 1 × 10\n",
       "\\begin{tabular}{llllllllll}\n",
       " estimate & estimate1 & estimate2 & statistic & p.value & parameter & conf.low & conf.high & method & alternative\\\\\n",
       " <dbl> & <dbl> & <dbl> & <dbl> & <dbl> & <dbl> & <dbl> & <dbl> & <chr> & <chr>\\\\\n",
       "\\hline\n",
       "\t 23.22462 & 101.506 & 78.28141 & 12.36604 & 3.331087e-25 & 155.6837 & 20.11693 & Inf & Welch Two Sample t-test & greater\\\\\n",
       "\\end{tabular}\n"
      ],
      "text/markdown": [
       "\n",
       "A tibble: 1 × 10\n",
       "\n",
       "| estimate &lt;dbl&gt; | estimate1 &lt;dbl&gt; | estimate2 &lt;dbl&gt; | statistic &lt;dbl&gt; | p.value &lt;dbl&gt; | parameter &lt;dbl&gt; | conf.low &lt;dbl&gt; | conf.high &lt;dbl&gt; | method &lt;chr&gt; | alternative &lt;chr&gt; |\n",
       "|---|---|---|---|---|---|---|---|---|---|\n",
       "| 23.22462 | 101.506 | 78.28141 | 12.36604 | 3.331087e-25 | 155.6837 | 20.11693 | Inf | Welch Two Sample t-test | greater |\n",
       "\n"
      ],
      "text/plain": [
       "  estimate estimate1 estimate2 statistic p.value      parameter conf.low\n",
       "1 23.22462 101.506   78.28141  12.36604  3.331087e-25 155.6837  20.11693\n",
       "  conf.high method                  alternative\n",
       "1 Inf       Welch Two Sample t-test greater    "
      ]
     },
     "metadata": {},
     "output_type": "display_data"
    }
   ],
   "source": [
    "tidy(\n",
    "        t.test(x = cars_variables %>% \n",
    "               filter(cylinders == \"6\") %>% \n",
    "               pull(horsepower),\n",
    "               y = cars_variables %>% \n",
    "               filter(cylinders == \"4\") %>% \n",
    "               pull(horsepower),\n",
    "               alternative = \"greater\"))"
   ]
  },
  {
   "cell_type": "markdown",
   "id": "b1a6fdd8-9cfd-4ea8-af61-e06654957b58",
   "metadata": {},
   "source": [
    "*Table 7: Table of The Summary of The Two-Sample T-Test We Did*"
   ]
  },
  {
   "cell_type": "markdown",
   "id": "544a9058-a8f5-4ec9-8579-06b31e54e1db",
   "metadata": {},
   "source": [
    "estimate1 : true mean horsepower of cars with 6 cylinders\n",
    "\n",
    "estimate2 : true mean horsepower of cars with 4 cylinders"
   ]
  },
  {
   "cell_type": "code",
   "execution_count": null,
   "id": "25261a68-2e79-4cc0-b452-e0ea6afe8aac",
   "metadata": {},
   "outputs": [],
   "source": []
  }
 ],
 "metadata": {
  "kernelspec": {
   "display_name": "R",
   "language": "R",
   "name": "ir"
  },
  "language_info": {
   "codemirror_mode": "r",
   "file_extension": ".r",
   "mimetype": "text/x-r-source",
   "name": "R",
   "pygments_lexer": "r",
   "version": "4.0.5"
  }
 },
 "nbformat": 4,
 "nbformat_minor": 5
}
