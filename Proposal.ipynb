{
 "cells": [
  {
   "cell_type": "markdown",
   "id": "2f82b6b1-49e3-4ee7-b4b8-40eabc5b545b",
   "metadata": {},
   "source": [
    "## Proposal"
   ]
  },
  {
   "cell_type": "code",
   "execution_count": null,
   "id": "7f71cc5e-d3ed-44af-b898-c9a19f330f13",
   "metadata": {},
   "outputs": [],
   "source": []
  }
 ],
 "metadata": {
  "kernelspec": {
   "display_name": "R",
   "language": "R",
   "name": "ir"
  },
  "language_info": {
   "codemirror_mode": "r",
   "file_extension": ".r",
   "mimetype": "text/x-r-source",
   "name": "R",
   "pygments_lexer": "r",
   "version": "4.0.5"
  }
 },
 "nbformat": 4,
 "nbformat_minor": 5
}
